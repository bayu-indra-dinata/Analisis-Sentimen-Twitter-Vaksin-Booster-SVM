{
 "cells": [
  {
   "cell_type": "code",
   "execution_count": 1,
   "id": "4d3ae665",
   "metadata": {},
   "outputs": [
    {
     "name": "stderr",
     "output_type": "stream",
     "text": [
      "C:\\Users\\kuyub\\anaconda3\\lib\\site-packages\\scipy\\__init__.py:138: UserWarning: A NumPy version >=1.16.5 and <1.23.0 is required for this version of SciPy (detected version 1.23.5)\n",
      "  warnings.warn(f\"A NumPy version >={np_minversion} and <{np_maxversion} is required for this version of \"\n"
     ]
    }
   ],
   "source": [
    "import pandas as pd\n",
    "import numpy as np\n",
    "import matplotlib.pyplot as plt\n",
    "import seaborn as sns\n",
    "from Sastrawi.Stemmer.StemmerFactory import StemmerFactory\n",
    "from sklearn.preprocessing import LabelEncoder\n",
    "from sklearn.feature_extraction.text import TfidfVectorizer\n",
    "from sklearn import model_selection\n",
    "from sklearn.model_selection import GridSearchCV, cross_val_score, KFold\n",
    "from sklearn.svm import SVC\n",
    "from sklearn.metrics import accuracy_score, precision_score, recall_score, f1_score\n",
    "import sklearn.metrics as metrics\n",
    "from sklearn.metrics import classification_report, confusion_matrix"
   ]
  },
  {
   "cell_type": "code",
   "execution_count": 2,
   "id": "2e88bfd1",
   "metadata": {},
   "outputs": [],
   "source": [
    "df = pd.read_csv('dataset/tweets_labelled.csv')"
   ]
  },
  {
   "cell_type": "code",
   "execution_count": 3,
   "id": "8da9dad5",
   "metadata": {},
   "outputs": [],
   "source": [
    "df.drop('Unnamed: 0', axis=1, inplace=True)"
   ]
  },
  {
   "cell_type": "code",
   "execution_count": 4,
   "id": "04019a66",
   "metadata": {},
   "outputs": [
    {
     "data": {
      "text/html": [
       "<div>\n",
       "<style scoped>\n",
       "    .dataframe tbody tr th:only-of-type {\n",
       "        vertical-align: middle;\n",
       "    }\n",
       "\n",
       "    .dataframe tbody tr th {\n",
       "        vertical-align: top;\n",
       "    }\n",
       "\n",
       "    .dataframe thead th {\n",
       "        text-align: right;\n",
       "    }\n",
       "</style>\n",
       "<table border=\"1\" class=\"dataframe\">\n",
       "  <thead>\n",
       "    <tr style=\"text-align: right;\">\n",
       "      <th></th>\n",
       "      <th>tweets</th>\n",
       "      <th>sentiment</th>\n",
       "    </tr>\n",
       "  </thead>\n",
       "  <tbody>\n",
       "    <tr>\n",
       "      <th>0</th>\n",
       "      <td>['wajib', 'scan', 'qr', 'wajib', 'vaksin', 'bo...</td>\n",
       "      <td>-1.0</td>\n",
       "    </tr>\n",
       "    <tr>\n",
       "      <th>1</th>\n",
       "      <td>['moga', 'pink', 'balik', 'kai', 'pakai', 'vak...</td>\n",
       "      <td>-1.0</td>\n",
       "    </tr>\n",
       "    <tr>\n",
       "      <th>2</th>\n",
       "      <td>['ready', 'tembak', 'vaksin', 'vaksin', 'hapus...</td>\n",
       "      <td>-1.0</td>\n",
       "    </tr>\n",
       "    <tr>\n",
       "      <th>3</th>\n",
       "      <td>['informasi', 'medan', 'vaksin', 'booster']</td>\n",
       "      <td>1.0</td>\n",
       "    </tr>\n",
       "    <tr>\n",
       "      <th>4</th>\n",
       "      <td>['takut', 'vaksin', 'booster']</td>\n",
       "      <td>1.0</td>\n",
       "    </tr>\n",
       "    <tr>\n",
       "      <th>...</th>\n",
       "      <td>...</td>\n",
       "      <td>...</td>\n",
       "    </tr>\n",
       "    <tr>\n",
       "      <th>5916</th>\n",
       "      <td>['teman', 'vaksin', 'booster', 'gausah', 'tes'...</td>\n",
       "      <td>-1.0</td>\n",
       "    </tr>\n",
       "    <tr>\n",
       "      <th>5917</th>\n",
       "      <td>['relokasi', 'vaksin', 'booster', 'atas', 'bat...</td>\n",
       "      <td>-1.0</td>\n",
       "    </tr>\n",
       "    <tr>\n",
       "      <th>5918</th>\n",
       "      <td>['ceci', 'christele', 'plastic', 'girl', 'unai...</td>\n",
       "      <td>-1.0</td>\n",
       "    </tr>\n",
       "    <tr>\n",
       "      <th>5919</th>\n",
       "      <td>['tidakapa-apa', 'vaksin', 'booster', 'pokok']</td>\n",
       "      <td>1.0</td>\n",
       "    </tr>\n",
       "    <tr>\n",
       "      <th>5920</th>\n",
       "      <td>['wajib', 'vaksin', 'booster', 'harga', 'beda']</td>\n",
       "      <td>-1.0</td>\n",
       "    </tr>\n",
       "  </tbody>\n",
       "</table>\n",
       "<p>5921 rows × 2 columns</p>\n",
       "</div>"
      ],
      "text/plain": [
       "                                                 tweets  sentiment\n",
       "0     ['wajib', 'scan', 'qr', 'wajib', 'vaksin', 'bo...       -1.0\n",
       "1     ['moga', 'pink', 'balik', 'kai', 'pakai', 'vak...       -1.0\n",
       "2     ['ready', 'tembak', 'vaksin', 'vaksin', 'hapus...       -1.0\n",
       "3           ['informasi', 'medan', 'vaksin', 'booster']        1.0\n",
       "4                        ['takut', 'vaksin', 'booster']        1.0\n",
       "...                                                 ...        ...\n",
       "5916  ['teman', 'vaksin', 'booster', 'gausah', 'tes'...       -1.0\n",
       "5917  ['relokasi', 'vaksin', 'booster', 'atas', 'bat...       -1.0\n",
       "5918  ['ceci', 'christele', 'plastic', 'girl', 'unai...       -1.0\n",
       "5919     ['tidakapa-apa', 'vaksin', 'booster', 'pokok']        1.0\n",
       "5920    ['wajib', 'vaksin', 'booster', 'harga', 'beda']       -1.0\n",
       "\n",
       "[5921 rows x 2 columns]"
      ]
     },
     "execution_count": 4,
     "metadata": {},
     "output_type": "execute_result"
    }
   ],
   "source": [
    "df"
   ]
  },
  {
   "cell_type": "code",
   "execution_count": 5,
   "id": "cfb5fd1a",
   "metadata": {},
   "outputs": [
    {
     "data": {
      "text/plain": [
       "tweets       0\n",
       "sentiment    0\n",
       "dtype: int64"
      ]
     },
     "execution_count": 5,
     "metadata": {},
     "output_type": "execute_result"
    }
   ],
   "source": [
    "df.isna().sum()"
   ]
  },
  {
   "cell_type": "code",
   "execution_count": 5,
   "id": "5576da76",
   "metadata": {},
   "outputs": [],
   "source": [
    "# Membagi set data latih dan data uji dengan rasio 70:30\n",
    "X_Train, X_Test, Y_Train, Y_Test = model_selection.train_test_split(df['tweets'], df['sentiment'], \n",
    "                                                                    test_size=0.3, random_state=42)"
   ]
  },
  {
   "cell_type": "code",
   "execution_count": 4,
   "id": "7df58590",
   "metadata": {
    "scrolled": false
   },
   "outputs": [
    {
     "name": "stdout",
     "output_type": "stream",
     "text": [
      "4144 0.6998817767269042 % \n",
      " 1777 0.3001182232730958 %\n"
     ]
    }
   ],
   "source": [
    "print(X_Train.size, X_Train.size/(X_Test.size+X_Train.size),'%','\\n',\n",
    "      X_Test.size, X_Test.size/(X_Test.size+X_Train.size),'%')"
   ]
  },
  {
   "cell_type": "code",
   "execution_count": 10,
   "id": "6f8b10bd",
   "metadata": {},
   "outputs": [],
   "source": [
    "data_train = pd.DataFrame()\n",
    "data_train['tweets'] = X_Train\n",
    "data_train['sentiment'] = Y_Train\n",
    "\n",
    "data_test = pd.DataFrame()\n",
    "data_test['tweets'] = X_Test\n",
    "data_test['sentiment'] = Y_Test"
   ]
  },
  {
   "cell_type": "code",
   "execution_count": 9,
   "id": "fe643f4a",
   "metadata": {},
   "outputs": [
    {
     "data": {
      "text/html": [
       "<div>\n",
       "<style scoped>\n",
       "    .dataframe tbody tr th:only-of-type {\n",
       "        vertical-align: middle;\n",
       "    }\n",
       "\n",
       "    .dataframe tbody tr th {\n",
       "        vertical-align: top;\n",
       "    }\n",
       "\n",
       "    .dataframe thead th {\n",
       "        text-align: right;\n",
       "    }\n",
       "</style>\n",
       "<table border=\"1\" class=\"dataframe\">\n",
       "  <thead>\n",
       "    <tr style=\"text-align: right;\">\n",
       "      <th></th>\n",
       "      <th>tweets</th>\n",
       "      <th>sentiment</th>\n",
       "    </tr>\n",
       "  </thead>\n",
       "  <tbody>\n",
       "    <tr>\n",
       "      <th>229</th>\n",
       "      <td>['kunci', 'utama', 'tekan', 'covid', 'indonesi...</td>\n",
       "      <td>1.0</td>\n",
       "    </tr>\n",
       "    <tr>\n",
       "      <th>4127</th>\n",
       "      <td>['aplikasi', 'kaiaccess', 'sistem', 'boarding'...</td>\n",
       "      <td>1.0</td>\n",
       "    </tr>\n",
       "    <tr>\n",
       "      <th>668</th>\n",
       "      <td>['izin', 'desember', 'layan', 'vaksin', 'boost...</td>\n",
       "      <td>-1.0</td>\n",
       "    </tr>\n",
       "    <tr>\n",
       "      <th>218</th>\n",
       "      <td>['ada', 'vaksin', 'booster', 'calon', 'tumpang...</td>\n",
       "      <td>1.0</td>\n",
       "    </tr>\n",
       "    <tr>\n",
       "      <th>4940</th>\n",
       "      <td>['cari', 'vaksin', 'booster', 'daerah', 'malang']</td>\n",
       "      <td>-1.0</td>\n",
       "    </tr>\n",
       "    <tr>\n",
       "      <th>...</th>\n",
       "      <td>...</td>\n",
       "      <td>...</td>\n",
       "    </tr>\n",
       "    <tr>\n",
       "      <th>3772</th>\n",
       "      <td>['vaksin', 'booster', 'tertawa']</td>\n",
       "      <td>1.0</td>\n",
       "    </tr>\n",
       "    <tr>\n",
       "      <th>5191</th>\n",
       "      <td>['drop', 'informasi', 'vaksin', 'booster', 'da...</td>\n",
       "      <td>1.0</td>\n",
       "    </tr>\n",
       "    <tr>\n",
       "      <th>5226</th>\n",
       "      <td>['vaksin', 'booster', 'kayak', 'travelling', '...</td>\n",
       "      <td>1.0</td>\n",
       "    </tr>\n",
       "    <tr>\n",
       "      <th>5390</th>\n",
       "      <td>['holding', 'bumn', 'farmasi', 'harap', 'indov...</td>\n",
       "      <td>-1.0</td>\n",
       "    </tr>\n",
       "    <tr>\n",
       "      <th>860</th>\n",
       "      <td>['bawah', 'gapp', 'anak', 'vaksin', 'booster']</td>\n",
       "      <td>-1.0</td>\n",
       "    </tr>\n",
       "  </tbody>\n",
       "</table>\n",
       "<p>4144 rows × 2 columns</p>\n",
       "</div>"
      ],
      "text/plain": [
       "                                                 tweets  sentiment\n",
       "229   ['kunci', 'utama', 'tekan', 'covid', 'indonesi...        1.0\n",
       "4127  ['aplikasi', 'kaiaccess', 'sistem', 'boarding'...        1.0\n",
       "668   ['izin', 'desember', 'layan', 'vaksin', 'boost...       -1.0\n",
       "218   ['ada', 'vaksin', 'booster', 'calon', 'tumpang...        1.0\n",
       "4940  ['cari', 'vaksin', 'booster', 'daerah', 'malang']       -1.0\n",
       "...                                                 ...        ...\n",
       "3772                   ['vaksin', 'booster', 'tertawa']        1.0\n",
       "5191  ['drop', 'informasi', 'vaksin', 'booster', 'da...        1.0\n",
       "5226  ['vaksin', 'booster', 'kayak', 'travelling', '...        1.0\n",
       "5390  ['holding', 'bumn', 'farmasi', 'harap', 'indov...       -1.0\n",
       "860      ['bawah', 'gapp', 'anak', 'vaksin', 'booster']       -1.0\n",
       "\n",
       "[4144 rows x 2 columns]"
      ]
     },
     "execution_count": 9,
     "metadata": {},
     "output_type": "execute_result"
    }
   ],
   "source": [
    "data_train"
   ]
  },
  {
   "cell_type": "code",
   "execution_count": 116,
   "id": "0a62d97e",
   "metadata": {},
   "outputs": [],
   "source": [
    "data_train.to_excel('dataset/data_train.xlsx')"
   ]
  },
  {
   "cell_type": "code",
   "execution_count": 10,
   "id": "1d4563a1",
   "metadata": {},
   "outputs": [
    {
     "data": {
      "text/html": [
       "<div>\n",
       "<style scoped>\n",
       "    .dataframe tbody tr th:only-of-type {\n",
       "        vertical-align: middle;\n",
       "    }\n",
       "\n",
       "    .dataframe tbody tr th {\n",
       "        vertical-align: top;\n",
       "    }\n",
       "\n",
       "    .dataframe thead th {\n",
       "        text-align: right;\n",
       "    }\n",
       "</style>\n",
       "<table border=\"1\" class=\"dataframe\">\n",
       "  <thead>\n",
       "    <tr style=\"text-align: right;\">\n",
       "      <th></th>\n",
       "      <th>tweets</th>\n",
       "      <th>sentiment</th>\n",
       "    </tr>\n",
       "  </thead>\n",
       "  <tbody>\n",
       "    <tr>\n",
       "      <th>4794</th>\n",
       "      <td>['informasi', 'vaksin', 'booster', 'dom', 'tan...</td>\n",
       "      <td>1.0</td>\n",
       "    </tr>\n",
       "    <tr>\n",
       "      <th>1268</th>\n",
       "      <td>['anuar', 'ibrahim', 'rompak', 'rm', 'billion'...</td>\n",
       "      <td>-1.0</td>\n",
       "    </tr>\n",
       "    <tr>\n",
       "      <th>4076</th>\n",
       "      <td>['gais', 'nonton', 'konser', 'besok', 'vaksin'...</td>\n",
       "      <td>1.0</td>\n",
       "    </tr>\n",
       "    <tr>\n",
       "      <th>5058</th>\n",
       "      <td>['maaf', 'vaksin', 'tiga', 'kenan', 'kakak', '...</td>\n",
       "      <td>1.0</td>\n",
       "    </tr>\n",
       "    <tr>\n",
       "      <th>4004</th>\n",
       "      <td>['takut', 'vaksin', 'booster']</td>\n",
       "      <td>1.0</td>\n",
       "    </tr>\n",
       "    <tr>\n",
       "      <th>...</th>\n",
       "      <td>...</td>\n",
       "      <td>...</td>\n",
       "    </tr>\n",
       "    <tr>\n",
       "      <th>5067</th>\n",
       "      <td>['dok', 'vaksin', 'booster']</td>\n",
       "      <td>1.0</td>\n",
       "    </tr>\n",
       "    <tr>\n",
       "      <th>3501</th>\n",
       "      <td>['informasi', 'vaksin', 'booster', 'bsd']</td>\n",
       "      <td>1.0</td>\n",
       "    </tr>\n",
       "    <tr>\n",
       "      <th>949</th>\n",
       "      <td>['bijak', 'wajib', 'vaksin', 'booster', 'serti...</td>\n",
       "      <td>1.0</td>\n",
       "    </tr>\n",
       "    <tr>\n",
       "      <th>4816</th>\n",
       "      <td>['informasi', 'vaksin', 'booster', 'daerah', '...</td>\n",
       "      <td>1.0</td>\n",
       "    </tr>\n",
       "    <tr>\n",
       "      <th>19</th>\n",
       "      <td>['cabut', 'ppkm', 'melulu', 'respons', 'positi...</td>\n",
       "      <td>-1.0</td>\n",
       "    </tr>\n",
       "  </tbody>\n",
       "</table>\n",
       "<p>1777 rows × 2 columns</p>\n",
       "</div>"
      ],
      "text/plain": [
       "                                                 tweets  sentiment\n",
       "4794  ['informasi', 'vaksin', 'booster', 'dom', 'tan...        1.0\n",
       "1268  ['anuar', 'ibrahim', 'rompak', 'rm', 'billion'...       -1.0\n",
       "4076  ['gais', 'nonton', 'konser', 'besok', 'vaksin'...        1.0\n",
       "5058  ['maaf', 'vaksin', 'tiga', 'kenan', 'kakak', '...        1.0\n",
       "4004                     ['takut', 'vaksin', 'booster']        1.0\n",
       "...                                                 ...        ...\n",
       "5067                       ['dok', 'vaksin', 'booster']        1.0\n",
       "3501          ['informasi', 'vaksin', 'booster', 'bsd']        1.0\n",
       "949   ['bijak', 'wajib', 'vaksin', 'booster', 'serti...        1.0\n",
       "4816  ['informasi', 'vaksin', 'booster', 'daerah', '...        1.0\n",
       "19    ['cabut', 'ppkm', 'melulu', 'respons', 'positi...       -1.0\n",
       "\n",
       "[1777 rows x 2 columns]"
      ]
     },
     "execution_count": 10,
     "metadata": {},
     "output_type": "execute_result"
    }
   ],
   "source": [
    "data_test"
   ]
  },
  {
   "cell_type": "code",
   "execution_count": 117,
   "id": "adcbb0b4",
   "metadata": {},
   "outputs": [],
   "source": [
    "data_test.to_excel('dataset/data_test.xlsx')"
   ]
  },
  {
   "cell_type": "markdown",
   "id": "1764c44d",
   "metadata": {},
   "source": [
    "<h1>TF-IDF</h1>"
   ]
  },
  {
   "cell_type": "code",
   "execution_count": 6,
   "id": "0d3c60e6",
   "metadata": {},
   "outputs": [],
   "source": [
    "Tfidf = TfidfVectorizer(min_df=5, max_df=0.8, sublinear_tf=True, \n",
    "                    use_idf=True).fit(df['tweets'])\n",
    "\n",
    "X = Tfidf.fit_transform(df['tweets'])\n",
    "\n",
    "# Transform X_Train dan X_Test ke vektor TF-IDF\n",
    "Train_X_Tfidf = Tfidf.transform(X_Train)\n",
    "Test_X_Tfidf = Tfidf.transform(X_Test)"
   ]
  },
  {
   "cell_type": "code",
   "execution_count": 10,
   "id": "73426895",
   "metadata": {
    "scrolled": true
   },
   "outputs": [
    {
     "data": {
      "text/html": [
       "<div>\n",
       "<style scoped>\n",
       "    .dataframe tbody tr th:only-of-type {\n",
       "        vertical-align: middle;\n",
       "    }\n",
       "\n",
       "    .dataframe tbody tr th {\n",
       "        vertical-align: top;\n",
       "    }\n",
       "\n",
       "    .dataframe thead th {\n",
       "        text-align: right;\n",
       "    }\n",
       "</style>\n",
       "<table border=\"1\" class=\"dataframe\">\n",
       "  <thead>\n",
       "    <tr style=\"text-align: right;\">\n",
       "      <th></th>\n",
       "      <th>D1</th>\n",
       "      <th>D2</th>\n",
       "      <th>D3</th>\n",
       "      <th>D4</th>\n",
       "      <th>D5</th>\n",
       "      <th>D6</th>\n",
       "      <th>D7</th>\n",
       "      <th>D8</th>\n",
       "      <th>D9</th>\n",
       "      <th>D10</th>\n",
       "      <th>...</th>\n",
       "      <th>D5912</th>\n",
       "      <th>D5913</th>\n",
       "      <th>D5914</th>\n",
       "      <th>D5915</th>\n",
       "      <th>D5916</th>\n",
       "      <th>D5917</th>\n",
       "      <th>D5918</th>\n",
       "      <th>D5919</th>\n",
       "      <th>D5920</th>\n",
       "      <th>D5921</th>\n",
       "    </tr>\n",
       "  </thead>\n",
       "  <tbody>\n",
       "    <tr>\n",
       "      <th>aamiin</th>\n",
       "      <td>0.0</td>\n",
       "      <td>0.0</td>\n",
       "      <td>0.0</td>\n",
       "      <td>0.0</td>\n",
       "      <td>0.0</td>\n",
       "      <td>0.0</td>\n",
       "      <td>0.0</td>\n",
       "      <td>0.0</td>\n",
       "      <td>0.0</td>\n",
       "      <td>0.0</td>\n",
       "      <td>...</td>\n",
       "      <td>0.0</td>\n",
       "      <td>0.0</td>\n",
       "      <td>0.0</td>\n",
       "      <td>0.0</td>\n",
       "      <td>0.000000</td>\n",
       "      <td>0.0</td>\n",
       "      <td>0.0</td>\n",
       "      <td>0.0</td>\n",
       "      <td>0.0</td>\n",
       "      <td>0.0</td>\n",
       "    </tr>\n",
       "    <tr>\n",
       "      <th>abai</th>\n",
       "      <td>0.0</td>\n",
       "      <td>0.0</td>\n",
       "      <td>0.0</td>\n",
       "      <td>0.0</td>\n",
       "      <td>0.0</td>\n",
       "      <td>0.0</td>\n",
       "      <td>0.0</td>\n",
       "      <td>0.0</td>\n",
       "      <td>0.0</td>\n",
       "      <td>0.0</td>\n",
       "      <td>...</td>\n",
       "      <td>0.0</td>\n",
       "      <td>0.0</td>\n",
       "      <td>0.0</td>\n",
       "      <td>0.0</td>\n",
       "      <td>0.000000</td>\n",
       "      <td>0.0</td>\n",
       "      <td>0.0</td>\n",
       "      <td>0.0</td>\n",
       "      <td>0.0</td>\n",
       "      <td>0.0</td>\n",
       "    </tr>\n",
       "    <tr>\n",
       "      <th>abang</th>\n",
       "      <td>0.0</td>\n",
       "      <td>0.0</td>\n",
       "      <td>0.0</td>\n",
       "      <td>0.0</td>\n",
       "      <td>0.0</td>\n",
       "      <td>0.0</td>\n",
       "      <td>0.0</td>\n",
       "      <td>0.0</td>\n",
       "      <td>0.0</td>\n",
       "      <td>0.0</td>\n",
       "      <td>...</td>\n",
       "      <td>0.0</td>\n",
       "      <td>0.0</td>\n",
       "      <td>0.0</td>\n",
       "      <td>0.0</td>\n",
       "      <td>0.000000</td>\n",
       "      <td>0.0</td>\n",
       "      <td>0.0</td>\n",
       "      <td>0.0</td>\n",
       "      <td>0.0</td>\n",
       "      <td>0.0</td>\n",
       "    </tr>\n",
       "    <tr>\n",
       "      <th>absen</th>\n",
       "      <td>0.0</td>\n",
       "      <td>0.0</td>\n",
       "      <td>0.0</td>\n",
       "      <td>0.0</td>\n",
       "      <td>0.0</td>\n",
       "      <td>0.0</td>\n",
       "      <td>0.0</td>\n",
       "      <td>0.0</td>\n",
       "      <td>0.0</td>\n",
       "      <td>0.0</td>\n",
       "      <td>...</td>\n",
       "      <td>0.0</td>\n",
       "      <td>0.0</td>\n",
       "      <td>0.0</td>\n",
       "      <td>0.0</td>\n",
       "      <td>0.293341</td>\n",
       "      <td>0.0</td>\n",
       "      <td>0.0</td>\n",
       "      <td>0.0</td>\n",
       "      <td>0.0</td>\n",
       "      <td>0.0</td>\n",
       "    </tr>\n",
       "    <tr>\n",
       "      <th>acara</th>\n",
       "      <td>0.0</td>\n",
       "      <td>0.0</td>\n",
       "      <td>0.0</td>\n",
       "      <td>0.0</td>\n",
       "      <td>0.0</td>\n",
       "      <td>0.0</td>\n",
       "      <td>0.0</td>\n",
       "      <td>0.0</td>\n",
       "      <td>0.0</td>\n",
       "      <td>0.0</td>\n",
       "      <td>...</td>\n",
       "      <td>0.0</td>\n",
       "      <td>0.0</td>\n",
       "      <td>0.0</td>\n",
       "      <td>0.0</td>\n",
       "      <td>0.270546</td>\n",
       "      <td>0.0</td>\n",
       "      <td>0.0</td>\n",
       "      <td>0.0</td>\n",
       "      <td>0.0</td>\n",
       "      <td>0.0</td>\n",
       "    </tr>\n",
       "    <tr>\n",
       "      <th>...</th>\n",
       "      <td>...</td>\n",
       "      <td>...</td>\n",
       "      <td>...</td>\n",
       "      <td>...</td>\n",
       "      <td>...</td>\n",
       "      <td>...</td>\n",
       "      <td>...</td>\n",
       "      <td>...</td>\n",
       "      <td>...</td>\n",
       "      <td>...</td>\n",
       "      <td>...</td>\n",
       "      <td>...</td>\n",
       "      <td>...</td>\n",
       "      <td>...</td>\n",
       "      <td>...</td>\n",
       "      <td>...</td>\n",
       "      <td>...</td>\n",
       "      <td>...</td>\n",
       "      <td>...</td>\n",
       "      <td>...</td>\n",
       "      <td>...</td>\n",
       "    </tr>\n",
       "    <tr>\n",
       "      <th>xbb</th>\n",
       "      <td>0.0</td>\n",
       "      <td>0.0</td>\n",
       "      <td>0.0</td>\n",
       "      <td>0.0</td>\n",
       "      <td>0.0</td>\n",
       "      <td>0.0</td>\n",
       "      <td>0.0</td>\n",
       "      <td>0.0</td>\n",
       "      <td>0.0</td>\n",
       "      <td>0.0</td>\n",
       "      <td>...</td>\n",
       "      <td>0.0</td>\n",
       "      <td>0.0</td>\n",
       "      <td>0.0</td>\n",
       "      <td>0.0</td>\n",
       "      <td>0.000000</td>\n",
       "      <td>0.0</td>\n",
       "      <td>0.0</td>\n",
       "      <td>0.0</td>\n",
       "      <td>0.0</td>\n",
       "      <td>0.0</td>\n",
       "    </tr>\n",
       "    <tr>\n",
       "      <th>xxb</th>\n",
       "      <td>0.0</td>\n",
       "      <td>0.0</td>\n",
       "      <td>0.0</td>\n",
       "      <td>0.0</td>\n",
       "      <td>0.0</td>\n",
       "      <td>0.0</td>\n",
       "      <td>0.0</td>\n",
       "      <td>0.0</td>\n",
       "      <td>0.0</td>\n",
       "      <td>0.0</td>\n",
       "      <td>...</td>\n",
       "      <td>0.0</td>\n",
       "      <td>0.0</td>\n",
       "      <td>0.0</td>\n",
       "      <td>0.0</td>\n",
       "      <td>0.000000</td>\n",
       "      <td>0.0</td>\n",
       "      <td>0.0</td>\n",
       "      <td>0.0</td>\n",
       "      <td>0.0</td>\n",
       "      <td>0.0</td>\n",
       "    </tr>\n",
       "    <tr>\n",
       "      <th>yaallah</th>\n",
       "      <td>0.0</td>\n",
       "      <td>0.0</td>\n",
       "      <td>0.0</td>\n",
       "      <td>0.0</td>\n",
       "      <td>0.0</td>\n",
       "      <td>0.0</td>\n",
       "      <td>0.0</td>\n",
       "      <td>0.0</td>\n",
       "      <td>0.0</td>\n",
       "      <td>0.0</td>\n",
       "      <td>...</td>\n",
       "      <td>0.0</td>\n",
       "      <td>0.0</td>\n",
       "      <td>0.0</td>\n",
       "      <td>0.0</td>\n",
       "      <td>0.000000</td>\n",
       "      <td>0.0</td>\n",
       "      <td>0.0</td>\n",
       "      <td>0.0</td>\n",
       "      <td>0.0</td>\n",
       "      <td>0.0</td>\n",
       "    </tr>\n",
       "    <tr>\n",
       "      <th>yak</th>\n",
       "      <td>0.0</td>\n",
       "      <td>0.0</td>\n",
       "      <td>0.0</td>\n",
       "      <td>0.0</td>\n",
       "      <td>0.0</td>\n",
       "      <td>0.0</td>\n",
       "      <td>0.0</td>\n",
       "      <td>0.0</td>\n",
       "      <td>0.0</td>\n",
       "      <td>0.0</td>\n",
       "      <td>...</td>\n",
       "      <td>0.0</td>\n",
       "      <td>0.0</td>\n",
       "      <td>0.0</td>\n",
       "      <td>0.0</td>\n",
       "      <td>0.000000</td>\n",
       "      <td>0.0</td>\n",
       "      <td>0.0</td>\n",
       "      <td>0.0</td>\n",
       "      <td>0.0</td>\n",
       "      <td>0.0</td>\n",
       "    </tr>\n",
       "    <tr>\n",
       "      <th>yogyakarta</th>\n",
       "      <td>0.0</td>\n",
       "      <td>0.0</td>\n",
       "      <td>0.0</td>\n",
       "      <td>0.0</td>\n",
       "      <td>0.0</td>\n",
       "      <td>0.0</td>\n",
       "      <td>0.0</td>\n",
       "      <td>0.0</td>\n",
       "      <td>0.0</td>\n",
       "      <td>0.0</td>\n",
       "      <td>...</td>\n",
       "      <td>0.0</td>\n",
       "      <td>0.0</td>\n",
       "      <td>0.0</td>\n",
       "      <td>0.0</td>\n",
       "      <td>0.000000</td>\n",
       "      <td>0.0</td>\n",
       "      <td>0.0</td>\n",
       "      <td>0.0</td>\n",
       "      <td>0.0</td>\n",
       "      <td>0.0</td>\n",
       "    </tr>\n",
       "  </tbody>\n",
       "</table>\n",
       "<p>1237 rows × 5921 columns</p>\n",
       "</div>"
      ],
      "text/plain": [
       "             D1   D2   D3   D4   D5   D6   D7   D8   D9  D10  ...  D5912  \\\n",
       "aamiin      0.0  0.0  0.0  0.0  0.0  0.0  0.0  0.0  0.0  0.0  ...    0.0   \n",
       "abai        0.0  0.0  0.0  0.0  0.0  0.0  0.0  0.0  0.0  0.0  ...    0.0   \n",
       "abang       0.0  0.0  0.0  0.0  0.0  0.0  0.0  0.0  0.0  0.0  ...    0.0   \n",
       "absen       0.0  0.0  0.0  0.0  0.0  0.0  0.0  0.0  0.0  0.0  ...    0.0   \n",
       "acara       0.0  0.0  0.0  0.0  0.0  0.0  0.0  0.0  0.0  0.0  ...    0.0   \n",
       "...         ...  ...  ...  ...  ...  ...  ...  ...  ...  ...  ...    ...   \n",
       "xbb         0.0  0.0  0.0  0.0  0.0  0.0  0.0  0.0  0.0  0.0  ...    0.0   \n",
       "xxb         0.0  0.0  0.0  0.0  0.0  0.0  0.0  0.0  0.0  0.0  ...    0.0   \n",
       "yaallah     0.0  0.0  0.0  0.0  0.0  0.0  0.0  0.0  0.0  0.0  ...    0.0   \n",
       "yak         0.0  0.0  0.0  0.0  0.0  0.0  0.0  0.0  0.0  0.0  ...    0.0   \n",
       "yogyakarta  0.0  0.0  0.0  0.0  0.0  0.0  0.0  0.0  0.0  0.0  ...    0.0   \n",
       "\n",
       "            D5913  D5914  D5915     D5916  D5917  D5918  D5919  D5920  D5921  \n",
       "aamiin        0.0    0.0    0.0  0.000000    0.0    0.0    0.0    0.0    0.0  \n",
       "abai          0.0    0.0    0.0  0.000000    0.0    0.0    0.0    0.0    0.0  \n",
       "abang         0.0    0.0    0.0  0.000000    0.0    0.0    0.0    0.0    0.0  \n",
       "absen         0.0    0.0    0.0  0.293341    0.0    0.0    0.0    0.0    0.0  \n",
       "acara         0.0    0.0    0.0  0.270546    0.0    0.0    0.0    0.0    0.0  \n",
       "...           ...    ...    ...       ...    ...    ...    ...    ...    ...  \n",
       "xbb           0.0    0.0    0.0  0.000000    0.0    0.0    0.0    0.0    0.0  \n",
       "xxb           0.0    0.0    0.0  0.000000    0.0    0.0    0.0    0.0    0.0  \n",
       "yaallah       0.0    0.0    0.0  0.000000    0.0    0.0    0.0    0.0    0.0  \n",
       "yak           0.0    0.0    0.0  0.000000    0.0    0.0    0.0    0.0    0.0  \n",
       "yogyakarta    0.0    0.0    0.0  0.000000    0.0    0.0    0.0    0.0    0.0  \n",
       "\n",
       "[1237 rows x 5921 columns]"
      ]
     },
     "execution_count": 10,
     "metadata": {},
     "output_type": "execute_result"
    }
   ],
   "source": [
    "df_Tfidf = pd.DataFrame(X.todense().T,\n",
    "                       index=Tfidf.get_feature_names_out(),\n",
    "                       columns=[f'D{i+1}' for i in range(len(df['tweets']))])\n",
    "df_Tfidf"
   ]
  },
  {
   "cell_type": "code",
   "execution_count": 20,
   "id": "ff21bc22",
   "metadata": {},
   "outputs": [],
   "source": [
    "df_Tfidf.to_excel('output/tfidf_transform.xlsx')"
   ]
  },
  {
   "cell_type": "code",
   "execution_count": 115,
   "id": "4616bb54",
   "metadata": {
    "collapsed": true
   },
   "outputs": [
    {
     "name": "stdout",
     "output_type": "stream",
     "text": [
      "['aamiin' 'abai' 'abang' 'absen' 'acara' 'access' 'aceh' 'ada' 'adain'\n",
      " 'adek' 'adik' 'admin' 'after' 'agama' 'agustus' 'aipda'] \n",
      " ['waspada' 'wbp' 'web' 'wes' 'wib' 'wilayah' 'wisuda' 'wkwkwkwk' 'work'\n",
      " 'wta' 'wujud' 'xbb' 'xxb' 'yaallah' 'yak' 'yogyakarta']\n",
      "[[0.         0.         0.         0.         0.         0.\n",
      "  0.         0.         0.         0.         0.         0.\n",
      "  0.         0.         0.         0.         ... 0.         0.\n",
      "  0.         0.         0.         0.         0.         0.\n",
      "  0.         0.         0.         0.         0.         0.\n",
      "  0.         0.        ]\n",
      " [0.         0.         0.         0.         0.         0.\n",
      "  0.         0.         0.         0.         0.         0.\n",
      "  0.         0.         0.         0.         ... 0.         0.\n",
      "  0.         0.         0.         0.         0.         0.\n",
      "  0.         0.         0.         0.         0.         0.\n",
      "  0.         0.        ]\n",
      " [0.         0.         0.         0.         0.         0.\n",
      "  0.         0.         0.         0.         0.         0.\n",
      "  0.         0.         0.         0.         ... 0.         0.\n",
      "  0.         0.         0.         0.         0.         0.\n",
      "  0.         0.         0.         0.         0.         0.\n",
      "  0.         0.        ]\n",
      " [0.         0.         0.         0.         0.         0.\n",
      "  0.         0.         0.         0.         0.         0.\n",
      "  0.         0.         0.         0.         ... 0.         0.\n",
      "  0.         0.         0.         0.         0.         0.\n",
      "  0.         0.         0.         0.         0.         0.\n",
      "  0.         0.        ]\n",
      " [0.         0.         0.         0.         0.         0.\n",
      "  0.         0.         0.         0.         0.         0.\n",
      "  0.         0.         0.         0.         ... 0.         0.\n",
      "  0.         0.         0.         0.         0.         0.\n",
      "  0.         0.         0.         0.         0.         0.\n",
      "  0.         0.        ]\n",
      " [0.         0.         0.         0.         0.         0.\n",
      "  0.         0.         0.         0.         0.         0.\n",
      "  0.         0.         0.         0.         ... 0.         0.\n",
      "  0.         0.         0.         0.         0.         0.\n",
      "  0.         0.         0.         0.         0.         0.\n",
      "  0.         0.        ]\n",
      " [0.         0.         0.         0.         0.         0.\n",
      "  0.         0.         0.         0.         0.52797082 0.\n",
      "  0.         0.         0.         0.         ... 0.         0.\n",
      "  0.         0.         0.         0.         0.         0.\n",
      "  0.         0.         0.         0.         0.         0.\n",
      "  0.         0.        ]\n",
      " [0.         0.         0.         0.         0.         0.\n",
      "  0.         0.         0.         0.         0.         0.\n",
      "  0.         0.         0.         0.         ... 0.         0.\n",
      "  0.         0.         0.         0.         0.         0.\n",
      "  0.         0.         0.         0.         0.         0.\n",
      "  0.         0.        ]\n",
      " [0.         0.         0.         0.         0.         0.\n",
      "  0.         0.         0.         0.         0.         0.\n",
      "  0.         0.         0.         0.         ... 0.         0.\n",
      "  0.         0.         0.         0.         0.         0.\n",
      "  0.         0.         0.         0.         0.         0.\n",
      "  0.         0.        ]\n",
      " [0.         0.         0.         0.         0.         0.\n",
      "  0.         0.         0.         0.         0.         0.\n",
      "  0.         0.         0.         0.         ... 0.         0.\n",
      "  0.         0.         0.         0.         0.         0.\n",
      "  0.         0.         0.         0.         0.         0.\n",
      "  0.         0.        ]\n",
      " [0.         0.         0.         0.         0.         0.\n",
      "  0.         0.         0.         0.         0.         0.\n",
      "  0.         0.         0.         0.         ... 0.         0.\n",
      "  0.         0.         0.         0.         0.         0.\n",
      "  0.         0.         0.         0.         0.         0.\n",
      "  0.         0.        ]\n",
      " [0.         0.         0.         0.         0.         0.\n",
      "  0.         0.         0.         0.         0.         0.\n",
      "  0.         0.         0.         0.         ... 0.         0.\n",
      "  0.         0.         0.         0.         0.         0.\n",
      "  0.         0.         0.         0.         0.         0.\n",
      "  0.         0.        ]\n",
      " [0.         0.         0.         0.         0.         0.\n",
      "  0.         0.         0.         0.         0.         0.\n",
      "  0.         0.         0.         0.         ... 0.         0.\n",
      "  0.         0.         0.         0.         0.         0.\n",
      "  0.         0.         0.         0.         0.         0.\n",
      "  0.         0.        ]\n",
      " [0.         0.         0.         0.         0.         0.\n",
      "  0.         0.         0.         0.         0.         0.\n",
      "  0.         0.         0.         0.         ... 0.         0.\n",
      "  0.         0.         0.         0.         0.         0.\n",
      "  0.         0.         0.         0.         0.         0.\n",
      "  0.         0.        ]\n",
      " [0.         0.         0.         0.         0.         0.\n",
      "  0.         0.         0.         0.         0.         0.\n",
      "  0.         0.         0.         0.         ... 0.         0.\n",
      "  0.         0.         0.         0.         0.         0.\n",
      "  0.         0.         0.         0.         0.         0.\n",
      "  0.         0.        ]\n",
      " [0.         0.         0.         0.         0.         0.\n",
      "  0.         0.         0.         0.         0.         0.\n",
      "  0.         0.         0.         0.         ... 0.         0.\n",
      "  0.         0.         0.         0.         0.         0.\n",
      "  0.         0.         0.         0.         0.         0.\n",
      "  0.         0.        ]]\n",
      "{'aamiin': 0, 'abai': 1, 'abang': 2, 'absen': 3, ...}\n",
      "habis\n"
     ]
    }
   ],
   "source": [
    "# print 16 nama fitur pertama dan terakhir\n",
    "print(Tfidf.get_feature_names_out()[:16],'\\n',\n",
    "       Tfidf.get_feature_names_out()[-16:])\n",
    "\n",
    "# print 16 vektor TF-IDF pertama dan terakhir untuk 6 baris/kalimat\n",
    "with np.printoptions(edgeitems=16):\n",
    "     print(X.toarray()[:16])\n",
    "\n",
    "# print(Tfidf.vocabulary_)\n",
    "import reprlib\n",
    "print(reprlib.repr(Tfidf.vocabulary_))\n",
    "\n",
    "# # Jika kita ingin melihat vektor dari suatu kata:\n",
    "# # sebagai contoh kata di array[22]:\n",
    "val = list(Tfidf.vocabulary_)[22]\n",
    "print(val)"
   ]
  },
  {
   "cell_type": "code",
   "execution_count": 21,
   "id": "6d0615b8",
   "metadata": {
    "collapsed": true
   },
   "outputs": [
    {
     "name": "stdout",
     "output_type": "stream",
     "text": [
      "  (0, 1200)\t0.45330337476995436\n",
      "  (0, 1123)\t0.33393800835145165\n",
      "  (0, 1103)\t0.4509385078814395\n",
      "  (0, 983)\t0.2597783240178051\n",
      "  (0, 892)\t0.31540553229279306\n",
      "  (0, 592)\t0.39219457691044796\n",
      "  (0, 420)\t0.33348008949089675\n",
      "  (0, 221)\t0.21832300711302755\n",
      "  (1, 1172)\t0.20415704931633583\n",
      "  (1, 1122)\t0.2803868923719286\n",
      "  (1, 1051)\t0.19094024442232188\n",
      "  (1, 1034)\t0.316278218348952\n",
      "  (1, 835)\t0.22686327068759313\n",
      "  (1, 738)\t0.2345018173867441\n",
      "  (1, 634)\t0.20092520580102585\n",
      "  (1, 537)\t0.325238583359218\n",
      "  (1, 493)\t0.19606278276106864\n",
      "  (1, 460)\t0.21640894390057047\n",
      "  (1, 156)\t0.5355055736700508\n",
      "  (1, 131)\t0.23358791951318641\n",
      "  (1, 64)\t0.2529839910421197\n",
      "  (2, 1128)\t0.2704213520641716\n",
      "  (2, 1112)\t0.41801015592604635\n",
      "  (2, 1077)\t0.2680156354923206\n",
      "  (2, 616)\t0.3071343460112473\n",
      "  :\t:\n",
      "  (4140, 998)\t0.425010338974374\n",
      "  (4140, 698)\t0.38661478744495564\n",
      "  (4140, 424)\t0.17066711681462543\n",
      "  (4140, 403)\t0.41591286973482466\n",
      "  (4140, 291)\t0.4489395642807959\n",
      "  (4140, 231)\t0.2613812155558894\n",
      "  (4141, 519)\t0.5917078786047243\n",
      "  (4141, 304)\t0.8061524585319435\n",
      "  (4142, 1202)\t0.16039213029884944\n",
      "  (4142, 1137)\t0.2691063302638354\n",
      "  (4142, 1125)\t0.25303357202977106\n",
      "  (4142, 882)\t0.21709200698743242\n",
      "  (4142, 795)\t0.28579446728126895\n",
      "  (4142, 702)\t0.22237555806143514\n",
      "  (4142, 550)\t0.2726253605508477\n",
      "  (4142, 421)\t0.3122633518625471\n",
      "  (4142, 381)\t0.24030141563325608\n",
      "  (4142, 307)\t0.25527194657432334\n",
      "  (4142, 305)\t0.2658937073145369\n",
      "  (4142, 257)\t0.2576548296097804\n",
      "  (4142, 254)\t0.2052595845964197\n",
      "  (4142, 182)\t0.38509156256499044\n",
      "  (4142, 42)\t0.1931782712759761\n",
      "  (4143, 117)\t0.7974071358142406\n",
      "  (4143, 42)\t0.6034416788327843\n"
     ]
    }
   ],
   "source": [
    "print(Train_X_Tfidf)"
   ]
  },
  {
   "cell_type": "code",
   "execution_count": 8,
   "id": "f82386c3",
   "metadata": {},
   "outputs": [
    {
     "data": {
      "text/plain": [
       "(4144, 1237)"
      ]
     },
     "execution_count": 8,
     "metadata": {},
     "output_type": "execute_result"
    }
   ],
   "source": [
    "Train_X_Tfidf.shape"
   ]
  },
  {
   "cell_type": "code",
   "execution_count": 15,
   "id": "7e31280a",
   "metadata": {
    "collapsed": true
   },
   "outputs": [
    {
     "name": "stdout",
     "output_type": "stream",
     "text": [
      "  (0, 7640)\t0.33610733612464844\n",
      "  (0, 7416)\t0.3134461422533679\n",
      "  (0, 7307)\t0.08215927147501251\n",
      "  (0, 6949)\t0.217954543338645\n",
      "  (0, 6871)\t0.1655405970084348\n",
      "  (0, 6861)\t0.2990028755909977\n",
      "  (0, 5948)\t0.24944706800163247\n",
      "  (0, 5141)\t0.19905915852283454\n",
      "  (0, 3780)\t0.17630003425215932\n",
      "  (0, 3037)\t0.26355146908473365\n",
      "  (0, 2668)\t0.11710286708242498\n",
      "  (0, 2514)\t0.2709344347452705\n",
      "  (0, 2463)\t0.2951433660685436\n",
      "  (0, 1940)\t0.2730115156880745\n",
      "  (0, 1332)\t0.4060435009897589\n",
      "  (0, 889)\t0.04121166327751923\n",
      "  (1, 7413)\t0.29987429264395044\n",
      "  (1, 7307)\t0.0637251815022809\n",
      "  (1, 6651)\t0.25451194215845296\n",
      "  (1, 6505)\t0.32175388098170593\n",
      "  (1, 5011)\t0.5213897497936181\n",
      "  (1, 2839)\t0.26551774080098073\n",
      "  (1, 2320)\t0.2626441120672041\n",
      "  (1, 1570)\t0.38164552921212513\n",
      "  (1, 1025)\t0.4202896573787472\n",
      "  :\t:\n",
      "  (1183, 5630)\t0.27695491719357146\n",
      "  (1183, 5572)\t0.21768589739858854\n",
      "  (1183, 5488)\t0.18952635979801793\n",
      "  (1183, 5111)\t0.24691536832395117\n",
      "  (1183, 3332)\t0.2695918483362563\n",
      "  (1183, 3261)\t0.29452692682088\n",
      "  (1183, 2639)\t0.2003873139664998\n",
      "  (1183, 1276)\t0.2623794484357836\n",
      "  (1183, 889)\t0.044105754923392214\n",
      "  (1183, 591)\t0.28996082246700394\n",
      "  (1183, 515)\t0.2430776493205206\n",
      "  (1183, 396)\t0.17451947204458218\n",
      "  (1184, 7330)\t0.29109933450679315\n",
      "  (1184, 7307)\t0.06790416341774201\n",
      "  (1184, 6863)\t0.3099280395236119\n",
      "  (1184, 6045)\t0.24110039785837387\n",
      "  (1184, 6012)\t0.3099280395236119\n",
      "  (1184, 5572)\t0.3362211245772461\n",
      "  (1184, 5488)\t0.29272803883865434\n",
      "  (1184, 5467)\t0.286138810261019\n",
      "  (1184, 5111)\t0.3813667481696133\n",
      "  (1184, 4896)\t0.3190491262172978\n",
      "  (1184, 3884)\t0.29473628283366027\n",
      "  (1184, 1276)\t0.20262569664195598\n",
      "  (1184, 889)\t0.06812240341650856\n"
     ]
    }
   ],
   "source": [
    "print(Test_X_Tfidf)"
   ]
  },
  {
   "cell_type": "code",
   "execution_count": 9,
   "id": "0d4e9bcf",
   "metadata": {},
   "outputs": [
    {
     "data": {
      "text/plain": [
       "(1777, 1237)"
      ]
     },
     "execution_count": 9,
     "metadata": {},
     "output_type": "execute_result"
    }
   ],
   "source": [
    "Test_X_Tfidf.shape"
   ]
  },
  {
   "cell_type": "code",
   "execution_count": 30,
   "id": "68c7ac70",
   "metadata": {},
   "outputs": [
    {
     "name": "stdout",
     "output_type": "stream",
     "text": [
      "SVM Accuracy Score ->  91.33370849746765\n"
     ]
    },
    {
     "data": {
      "text/plain": [
       "array([0.9253012 , 0.90120482, 0.89638554, 0.89156627, 0.90096618,\n",
       "       0.88405797, 0.88164251, 0.91545894, 0.89855072, 0.88647343])"
      ]
     },
     "execution_count": 30,
     "metadata": {},
     "output_type": "execute_result"
    }
   ],
   "source": [
    "# fitting data latih pada classifier\n",
    "SVM = SVC(kernel='linear', random_state=42)\n",
    "SVM.fit(Train_X_Tfidf, Y_Train)\n",
    "\n",
    "# memprediksi label pada set data uji\n",
    "predictions_SVM_Tfidf = SVM.predict(Test_X_Tfidf)\n",
    "\n",
    "# Menggunakan fungsi accuracy_score untuk mendapat nilai akurasi\n",
    "acc_tfidf = accuracy_score(Y_Test, predictions_SVM_Tfidf)*100\n",
    "print('SVM Accuracy Score -> ', acc_tfidf)\n",
    "\n",
    "cross_val_score(SVM, Train_X_Tfidf, Y_Train, cv=10)"
   ]
  },
  {
   "cell_type": "code",
   "execution_count": 31,
   "id": "9c6003da",
   "metadata": {},
   "outputs": [
    {
     "data": {
      "text/plain": [
       "0.8981607589779408"
      ]
     },
     "execution_count": 31,
     "metadata": {},
     "output_type": "execute_result"
    }
   ],
   "source": [
    "cross_val_score(SVM, Train_X_Tfidf, Y_Train, cv=10).mean()"
   ]
  },
  {
   "cell_type": "markdown",
   "id": "12845e09",
   "metadata": {},
   "source": [
    "<h1>Membandingkan Kernel</h1>\n",
    "<h2>1. Linear</h2>"
   ]
  },
  {
   "cell_type": "code",
   "execution_count": 7,
   "id": "d68747dd",
   "metadata": {
    "scrolled": true
   },
   "outputs": [],
   "source": [
    "SVM = SVC()\n",
    "linear = SVC(kernel='linear', C=2.33, gamma=0.0001)\n",
    "linear.fit(Train_X_Tfidf, Y_Train)\n",
    "linear1 = linear.predict(Test_X_Tfidf)"
   ]
  },
  {
   "cell_type": "code",
   "execution_count": 19,
   "id": "91384df5",
   "metadata": {
    "scrolled": true
   },
   "outputs": [
    {
     "name": "stdout",
     "output_type": "stream",
     "text": [
      "[0.91119691 0.91312741 0.91891892 0.90926641 0.88416988 0.91891892\n",
      " 0.8996139  0.9015444 ]\n",
      "K-Fold Mean ->  0.9070945945945945\n"
     ]
    }
   ],
   "source": [
    "# validasi data training\n",
    "scores = cross_val_score(linear, Train_X_Tfidf, Y_Train, cv=8)\n",
    "print(scores)\n",
    "print(\"K-Fold Mean -> \", cross_val_score(linear, Train_X_Tfidf, Y_Train, cv=8).mean())"
   ]
  },
  {
   "cell_type": "code",
   "execution_count": 49,
   "id": "f3d1e1c8",
   "metadata": {
    "scrolled": false
   },
   "outputs": [
    {
     "name": "stdout",
     "output_type": "stream",
     "text": [
      "[0.91011236 0.84831461 0.85955056 0.86516854 0.87640449 0.88202247\n",
      " 0.85955056 0.88135593 0.86440678 0.8700565 ]\n",
      "K-Fold Mean ->  0.8716942804545166\n"
     ]
    }
   ],
   "source": [
    "# validasi data testing\n",
    "scores2 = cross_val_score(linear, Test_X_Tfidf, Y_Test, cv=10)\n",
    "print(scores2)\n",
    "print(\"K-Fold Mean -> \", cross_val_score(linear, Test_X_Tfidf, Y_Test, cv=10).mean())"
   ]
  },
  {
   "cell_type": "code",
   "execution_count": 12,
   "id": "0da05329",
   "metadata": {},
   "outputs": [],
   "source": [
    "y_true = Y_Test # y_true untuk semua percobaan kernel \n",
    "y_pred = linear.predict(Test_X_Tfidf)"
   ]
  },
  {
   "cell_type": "code",
   "execution_count": 13,
   "id": "681eda4b",
   "metadata": {},
   "outputs": [
    {
     "data": {
      "text/html": [
       "<div>\n",
       "<style scoped>\n",
       "    .dataframe tbody tr th:only-of-type {\n",
       "        vertical-align: middle;\n",
       "    }\n",
       "\n",
       "    .dataframe tbody tr th {\n",
       "        vertical-align: top;\n",
       "    }\n",
       "\n",
       "    .dataframe thead th {\n",
       "        text-align: right;\n",
       "    }\n",
       "</style>\n",
       "<table border=\"1\" class=\"dataframe\">\n",
       "  <thead>\n",
       "    <tr style=\"text-align: right;\">\n",
       "      <th></th>\n",
       "      <th>tweets</th>\n",
       "      <th>sentiment</th>\n",
       "      <th>predict_sentiment</th>\n",
       "    </tr>\n",
       "  </thead>\n",
       "  <tbody>\n",
       "    <tr>\n",
       "      <th>4794</th>\n",
       "      <td>['informasi', 'vaksin', 'booster', 'dom', 'tan...</td>\n",
       "      <td>1.0</td>\n",
       "      <td>1.0</td>\n",
       "    </tr>\n",
       "    <tr>\n",
       "      <th>1268</th>\n",
       "      <td>['anuar', 'ibrahim', 'rompak', 'rm', 'billion'...</td>\n",
       "      <td>-1.0</td>\n",
       "      <td>1.0</td>\n",
       "    </tr>\n",
       "    <tr>\n",
       "      <th>4076</th>\n",
       "      <td>['gais', 'nonton', 'konser', 'besok', 'vaksin'...</td>\n",
       "      <td>1.0</td>\n",
       "      <td>1.0</td>\n",
       "    </tr>\n",
       "    <tr>\n",
       "      <th>5058</th>\n",
       "      <td>['maaf', 'vaksin', 'tiga', 'kenan', 'kakak', '...</td>\n",
       "      <td>1.0</td>\n",
       "      <td>1.0</td>\n",
       "    </tr>\n",
       "    <tr>\n",
       "      <th>4004</th>\n",
       "      <td>['takut', 'vaksin', 'booster']</td>\n",
       "      <td>1.0</td>\n",
       "      <td>1.0</td>\n",
       "    </tr>\n",
       "    <tr>\n",
       "      <th>...</th>\n",
       "      <td>...</td>\n",
       "      <td>...</td>\n",
       "      <td>...</td>\n",
       "    </tr>\n",
       "    <tr>\n",
       "      <th>5067</th>\n",
       "      <td>['dok', 'vaksin', 'booster']</td>\n",
       "      <td>1.0</td>\n",
       "      <td>1.0</td>\n",
       "    </tr>\n",
       "    <tr>\n",
       "      <th>3501</th>\n",
       "      <td>['informasi', 'vaksin', 'booster', 'bsd']</td>\n",
       "      <td>1.0</td>\n",
       "      <td>1.0</td>\n",
       "    </tr>\n",
       "    <tr>\n",
       "      <th>949</th>\n",
       "      <td>['bijak', 'wajib', 'vaksin', 'booster', 'serti...</td>\n",
       "      <td>1.0</td>\n",
       "      <td>-1.0</td>\n",
       "    </tr>\n",
       "    <tr>\n",
       "      <th>4816</th>\n",
       "      <td>['informasi', 'vaksin', 'booster', 'daerah', '...</td>\n",
       "      <td>1.0</td>\n",
       "      <td>1.0</td>\n",
       "    </tr>\n",
       "    <tr>\n",
       "      <th>19</th>\n",
       "      <td>['cabut', 'ppkm', 'melulu', 'respons', 'positi...</td>\n",
       "      <td>-1.0</td>\n",
       "      <td>-1.0</td>\n",
       "    </tr>\n",
       "  </tbody>\n",
       "</table>\n",
       "<p>1777 rows × 3 columns</p>\n",
       "</div>"
      ],
      "text/plain": [
       "                                                 tweets  sentiment  \\\n",
       "4794  ['informasi', 'vaksin', 'booster', 'dom', 'tan...        1.0   \n",
       "1268  ['anuar', 'ibrahim', 'rompak', 'rm', 'billion'...       -1.0   \n",
       "4076  ['gais', 'nonton', 'konser', 'besok', 'vaksin'...        1.0   \n",
       "5058  ['maaf', 'vaksin', 'tiga', 'kenan', 'kakak', '...        1.0   \n",
       "4004                     ['takut', 'vaksin', 'booster']        1.0   \n",
       "...                                                 ...        ...   \n",
       "5067                       ['dok', 'vaksin', 'booster']        1.0   \n",
       "3501          ['informasi', 'vaksin', 'booster', 'bsd']        1.0   \n",
       "949   ['bijak', 'wajib', 'vaksin', 'booster', 'serti...        1.0   \n",
       "4816  ['informasi', 'vaksin', 'booster', 'daerah', '...        1.0   \n",
       "19    ['cabut', 'ppkm', 'melulu', 'respons', 'positi...       -1.0   \n",
       "\n",
       "      predict_sentiment  \n",
       "4794                1.0  \n",
       "1268                1.0  \n",
       "4076                1.0  \n",
       "5058                1.0  \n",
       "4004                1.0  \n",
       "...                 ...  \n",
       "5067                1.0  \n",
       "3501                1.0  \n",
       "949                -1.0  \n",
       "4816                1.0  \n",
       "19                 -1.0  \n",
       "\n",
       "[1777 rows x 3 columns]"
      ]
     },
     "execution_count": 13,
     "metadata": {},
     "output_type": "execute_result"
    }
   ],
   "source": [
    "df_pred = data_test.assign(predict_sentiment = y_pred)\n",
    "df_pred"
   ]
  },
  {
   "cell_type": "code",
   "execution_count": 16,
   "id": "9f4fccc7",
   "metadata": {
    "scrolled": true
   },
   "outputs": [],
   "source": [
    "df_pred.to_csv('output/predict_svm_linear.csv')\n",
    "df_pred.to_excel('output/predict_svm_linear.xlsx')"
   ]
  },
  {
   "cell_type": "code",
   "execution_count": 12,
   "id": "6231e3f2",
   "metadata": {
    "scrolled": false
   },
   "outputs": [
    {
     "data": {
      "image/png": "[encoded data removed]",
      "text/plain": [
       "<Figure size 576x360 with 2 Axes>"
      ]
     },
     "metadata": {
      "needs_background": "light"
     },
     "output_type": "display_data"
    },
    {
     "name": "stdout",
     "output_type": "stream",
     "text": [
      "True Positive :  1154\n",
      "True Negative :  469\n",
      "False Positive :  114\n",
      "False Negative  :  40\n",
      "\n",
      "\n",
      "SVM Accuracy Score ->  91.33370849746765\n",
      "SVM Precision Score ->  96.64991624790619\n",
      "SVM Recall Score ->  91.00946372239747\n",
      "SVM f1 Score ->  93.74492282696994\n"
     ]
    }
   ],
   "source": [
    "# visualisasi Confusion Matrix\n",
    "label = [-1,1]\n",
    "cm = metrics.confusion_matrix(y_true, y_pred, labels=label)\n",
    "\n",
    "# plotting\n",
    "cm_display = metrics.ConfusionMatrixDisplay(confusion_matrix=cm, display_labels=label)\n",
    "fig, ax = plt.subplots(figsize=(8,5))\n",
    "cm_display.plot(ax=ax)\n",
    "plt.title(\"CM SVM Kernel Linear\")\n",
    "ax.set_xlabel(\"Prediksi Sentimen\")\n",
    "ax.set_ylabel(\"Aktual Sentimen\")\n",
    "\n",
    "# pembalikan urutan label sentiment\n",
    "ax.invert_xaxis()\n",
    "ax.invert_yaxis()\n",
    "\n",
    "plt.savefig('output/plot_cm_svm_kernel_linear.png')\n",
    "plt.show()\n",
    "# -1 = negatif, 1 = positif\n",
    "\n",
    "# Confusion matrix SVM Linear\n",
    "tn, fp, fn, tp = confusion_matrix(y_true, linear1).ravel()\n",
    "print(\"True Positive : \", tp)\n",
    "print(\"True Negative : \", tn)\n",
    "print(\"False Positive : \", fp)\n",
    "print(\"False Negative  : \", fn)\n",
    "print(\"\\n\")\n",
    "\n",
    "# classification report (nilai akurasi, presisi, recall, f1-score)\n",
    "print(\"SVM Accuracy Score -> \", accuracy_score(y_pred, y_true)*100)\n",
    "print(\"SVM Precision Score -> \", precision_score(y_pred, y_true)*100)\n",
    "print(\"SVM Recall Score -> \", recall_score(y_pred, y_true)*100)\n",
    "print(\"SVM f1 Score -> \", f1_score(y_pred, y_true)*100)"
   ]
  },
  {
   "cell_type": "markdown",
   "id": "3296a4b0",
   "metadata": {},
   "source": [
    "<h2>2. Polynomial</h2>"
   ]
  },
  {
   "cell_type": "code",
   "execution_count": 13,
   "id": "2469474f",
   "metadata": {},
   "outputs": [],
   "source": [
    "poly = SVC(kernel='poly', C=2.33)\n",
    "poly.fit(Train_X_Tfidf, Y_Train)\n",
    "poly1 = poly.predict(Test_X_Tfidf)"
   ]
  },
  {
   "cell_type": "code",
   "execution_count": 20,
   "id": "afbff201",
   "metadata": {},
   "outputs": [
    {
     "name": "stdout",
     "output_type": "stream",
     "text": [
      "[0.83783784 0.81274131 0.82625483 0.82818533 0.82046332 0.82432432\n",
      " 0.81081081 0.80501931]\n",
      "K-Fold Mean ->  0.8207046332046333\n"
     ]
    }
   ],
   "source": [
    "scores = cross_val_score(poly, Train_X_Tfidf, Y_Train, cv=8)\n",
    "print(scores)\n",
    "print(\"K-Fold Mean -> \", cross_val_score(poly, Train_X_Tfidf, Y_Train, cv=8).mean())"
   ]
  },
  {
   "cell_type": "code",
   "execution_count": 10,
   "id": "753d0969",
   "metadata": {},
   "outputs": [],
   "source": [
    "y_pred = poly.predict(Test_X_Tfidf)"
   ]
  },
  {
   "cell_type": "code",
   "execution_count": 11,
   "id": "8ddebbb3",
   "metadata": {},
   "outputs": [
    {
     "data": {
      "text/html": [
       "<div>\n",
       "<style scoped>\n",
       "    .dataframe tbody tr th:only-of-type {\n",
       "        vertical-align: middle;\n",
       "    }\n",
       "\n",
       "    .dataframe tbody tr th {\n",
       "        vertical-align: top;\n",
       "    }\n",
       "\n",
       "    .dataframe thead th {\n",
       "        text-align: right;\n",
       "    }\n",
       "</style>\n",
       "<table border=\"1\" class=\"dataframe\">\n",
       "  <thead>\n",
       "    <tr style=\"text-align: right;\">\n",
       "      <th></th>\n",
       "      <th>tweets</th>\n",
       "      <th>sentiment</th>\n",
       "      <th>predict_sentiment</th>\n",
       "    </tr>\n",
       "  </thead>\n",
       "  <tbody>\n",
       "    <tr>\n",
       "      <th>4794</th>\n",
       "      <td>['informasi', 'vaksin', 'booster', 'dom', 'tan...</td>\n",
       "      <td>1.0</td>\n",
       "      <td>1.0</td>\n",
       "    </tr>\n",
       "    <tr>\n",
       "      <th>1268</th>\n",
       "      <td>['anuar', 'ibrahim', 'rompak', 'rm', 'billion'...</td>\n",
       "      <td>-1.0</td>\n",
       "      <td>1.0</td>\n",
       "    </tr>\n",
       "    <tr>\n",
       "      <th>4076</th>\n",
       "      <td>['gais', 'nonton', 'konser', 'besok', 'vaksin'...</td>\n",
       "      <td>1.0</td>\n",
       "      <td>1.0</td>\n",
       "    </tr>\n",
       "    <tr>\n",
       "      <th>5058</th>\n",
       "      <td>['maaf', 'vaksin', 'tiga', 'kenan', 'kakak', '...</td>\n",
       "      <td>1.0</td>\n",
       "      <td>1.0</td>\n",
       "    </tr>\n",
       "    <tr>\n",
       "      <th>4004</th>\n",
       "      <td>['takut', 'vaksin', 'booster']</td>\n",
       "      <td>1.0</td>\n",
       "      <td>1.0</td>\n",
       "    </tr>\n",
       "    <tr>\n",
       "      <th>...</th>\n",
       "      <td>...</td>\n",
       "      <td>...</td>\n",
       "      <td>...</td>\n",
       "    </tr>\n",
       "    <tr>\n",
       "      <th>5067</th>\n",
       "      <td>['dok', 'vaksin', 'booster']</td>\n",
       "      <td>1.0</td>\n",
       "      <td>1.0</td>\n",
       "    </tr>\n",
       "    <tr>\n",
       "      <th>3501</th>\n",
       "      <td>['informasi', 'vaksin', 'booster', 'bsd']</td>\n",
       "      <td>1.0</td>\n",
       "      <td>1.0</td>\n",
       "    </tr>\n",
       "    <tr>\n",
       "      <th>949</th>\n",
       "      <td>['bijak', 'wajib', 'vaksin', 'booster', 'serti...</td>\n",
       "      <td>1.0</td>\n",
       "      <td>1.0</td>\n",
       "    </tr>\n",
       "    <tr>\n",
       "      <th>4816</th>\n",
       "      <td>['informasi', 'vaksin', 'booster', 'daerah', '...</td>\n",
       "      <td>1.0</td>\n",
       "      <td>1.0</td>\n",
       "    </tr>\n",
       "    <tr>\n",
       "      <th>19</th>\n",
       "      <td>['cabut', 'ppkm', 'melulu', 'respons', 'positi...</td>\n",
       "      <td>-1.0</td>\n",
       "      <td>-1.0</td>\n",
       "    </tr>\n",
       "  </tbody>\n",
       "</table>\n",
       "<p>1777 rows × 3 columns</p>\n",
       "</div>"
      ],
      "text/plain": [
       "                                                 tweets  sentiment  \\\n",
       "4794  ['informasi', 'vaksin', 'booster', 'dom', 'tan...        1.0   \n",
       "1268  ['anuar', 'ibrahim', 'rompak', 'rm', 'billion'...       -1.0   \n",
       "4076  ['gais', 'nonton', 'konser', 'besok', 'vaksin'...        1.0   \n",
       "5058  ['maaf', 'vaksin', 'tiga', 'kenan', 'kakak', '...        1.0   \n",
       "4004                     ['takut', 'vaksin', 'booster']        1.0   \n",
       "...                                                 ...        ...   \n",
       "5067                       ['dok', 'vaksin', 'booster']        1.0   \n",
       "3501          ['informasi', 'vaksin', 'booster', 'bsd']        1.0   \n",
       "949   ['bijak', 'wajib', 'vaksin', 'booster', 'serti...        1.0   \n",
       "4816  ['informasi', 'vaksin', 'booster', 'daerah', '...        1.0   \n",
       "19    ['cabut', 'ppkm', 'melulu', 'respons', 'positi...       -1.0   \n",
       "\n",
       "      predict_sentiment  \n",
       "4794                1.0  \n",
       "1268                1.0  \n",
       "4076                1.0  \n",
       "5058                1.0  \n",
       "4004                1.0  \n",
       "...                 ...  \n",
       "5067                1.0  \n",
       "3501                1.0  \n",
       "949                 1.0  \n",
       "4816                1.0  \n",
       "19                 -1.0  \n",
       "\n",
       "[1777 rows x 3 columns]"
      ]
     },
     "execution_count": 11,
     "metadata": {},
     "output_type": "execute_result"
    }
   ],
   "source": [
    "df_pred = data_test.assign(predict_sentiment = y_pred)\n",
    "df_pred"
   ]
  },
  {
   "cell_type": "code",
   "execution_count": 12,
   "id": "35224d96",
   "metadata": {},
   "outputs": [],
   "source": [
    "df_pred.to_csv('output/predict_svm_poly.csv')\n",
    "df_pred.to_excel('output/predict_svm_poly.xlsx')"
   ]
  },
  {
   "cell_type": "code",
   "execution_count": 92,
   "id": "d225c985",
   "metadata": {},
   "outputs": [
    {
     "data": {
      "image/png": "[encoded data removed]",
      "text/plain": [
       "<Figure size 576x360 with 2 Axes>"
      ]
     },
     "metadata": {
      "needs_background": "light"
     },
     "output_type": "display_data"
    },
    {
     "name": "stdout",
     "output_type": "stream",
     "text": [
      "True Positive :  1168\n",
      "True Negative :  290\n",
      "False Positive :  293\n",
      "False Negative  :  26\n",
      "\n",
      "\n",
      "SVM Accuracy Score ->  82.04839617332583\n",
      "SVM Recall Score ->  79.94524298425736\n",
      "SVM Precision Score ->  97.82244556113902\n",
      "SVM f1 Score ->  87.984934086629\n"
     ]
    }
   ],
   "source": [
    "# visualisasi Confusion Matrix\n",
    "label = [-1,1]\n",
    "cm = metrics.confusion_matrix(y_true, y_pred, labels=label)\n",
    "\n",
    "# plotting\n",
    "cm_display = metrics.ConfusionMatrixDisplay(confusion_matrix=cm, display_labels=label)\n",
    "fig, ax = plt.subplots(figsize=(8,5))\n",
    "cm_display.plot(ax=ax)\n",
    "plt.title(\"CM SVM Kernel Polynomial\")\n",
    "ax.set_xlabel(\"Prediksi Sentimen\")\n",
    "ax.set_ylabel(\"Aktual Sentimen\")\n",
    "\n",
    "# pembalikan urutan label sentiment\n",
    "ax.invert_xaxis()\n",
    "ax.invert_yaxis()\n",
    "\n",
    "plt.savefig('output/plot_cm_svm_kernel_poly.png')\n",
    "plt.show()\n",
    "# -1 = negatif, 1 = positif\n",
    "\n",
    "# Confusion matrix SVM Poly\n",
    "tn, fp, fn, tp = confusion_matrix(Y_Test, poly1).ravel()\n",
    "print(\"True Positive : \", tp)\n",
    "print(\"True Negative : \", tn)\n",
    "print(\"False Positive : \", fp)\n",
    "print(\"False Negative  : \", fn)\n",
    "print(\"\\n\")\n",
    "\n",
    "# classification report (nilai akurasi, presisi, recall, f1-score)\n",
    "print(\"SVM Accuracy Score -> \", accuracy_score(y_pred, y_true)*100)\n",
    "print(\"SVM Recall Score -> \", recall_score(y_pred, y_true)*100)\n",
    "print(\"SVM Precision Score -> \", precision_score(y_pred, y_true)*100)\n",
    "print(\"SVM f1 Score -> \", f1_score(y_pred, y_true)*100)"
   ]
  },
  {
   "cell_type": "markdown",
   "id": "113d93b2",
   "metadata": {},
   "source": [
    "<h2>3. Radial Basis Function (RBF, Gaussian)</h2>"
   ]
  },
  {
   "cell_type": "code",
   "execution_count": 15,
   "id": "a3f1bbdf",
   "metadata": {},
   "outputs": [],
   "source": [
    "rbf = SVC(kernel='rbf', C=2.13, gamma=0.50)\n",
    "rbf.fit(Train_X_Tfidf, Y_Train)\n",
    "rbf1 = rbf.predict(Test_X_Tfidf)"
   ]
  },
  {
   "cell_type": "code",
   "execution_count": 21,
   "id": "5e7dce0a",
   "metadata": {},
   "outputs": [
    {
     "name": "stdout",
     "output_type": "stream",
     "text": [
      "[0.91698842 0.91312741 0.90733591 0.90926641 0.88223938 0.90733591\n",
      " 0.8996139  0.88803089]\n",
      "K-Fold Mean ->  0.9029922779922779\n"
     ]
    }
   ],
   "source": [
    "scores = cross_val_score(rbf, Train_X_Tfidf, Y_Train, cv=8)\n",
    "print(scores)\n",
    "print(\"K-Fold Mean -> \", cross_val_score(rbf, Train_X_Tfidf, Y_Train, cv=8).mean())"
   ]
  },
  {
   "cell_type": "code",
   "execution_count": 27,
   "id": "0d17704c",
   "metadata": {},
   "outputs": [],
   "source": [
    "y_pred = rbf.predict(Test_X_Tfidf)"
   ]
  },
  {
   "cell_type": "code",
   "execution_count": 28,
   "id": "fcae8d99",
   "metadata": {},
   "outputs": [
    {
     "data": {
      "text/html": [
       "<div>\n",
       "<style scoped>\n",
       "    .dataframe tbody tr th:only-of-type {\n",
       "        vertical-align: middle;\n",
       "    }\n",
       "\n",
       "    .dataframe tbody tr th {\n",
       "        vertical-align: top;\n",
       "    }\n",
       "\n",
       "    .dataframe thead th {\n",
       "        text-align: right;\n",
       "    }\n",
       "</style>\n",
       "<table border=\"1\" class=\"dataframe\">\n",
       "  <thead>\n",
       "    <tr style=\"text-align: right;\">\n",
       "      <th></th>\n",
       "      <th>tweets</th>\n",
       "      <th>sentiment</th>\n",
       "      <th>predict_sentiment</th>\n",
       "    </tr>\n",
       "  </thead>\n",
       "  <tbody>\n",
       "    <tr>\n",
       "      <th>4794</th>\n",
       "      <td>['informasi', 'vaksin', 'booster', 'dom', 'tan...</td>\n",
       "      <td>1.0</td>\n",
       "      <td>1.0</td>\n",
       "    </tr>\n",
       "    <tr>\n",
       "      <th>1268</th>\n",
       "      <td>['anuar', 'ibrahim', 'rompak', 'rm', 'billion'...</td>\n",
       "      <td>-1.0</td>\n",
       "      <td>1.0</td>\n",
       "    </tr>\n",
       "    <tr>\n",
       "      <th>4076</th>\n",
       "      <td>['gais', 'nonton', 'konser', 'besok', 'vaksin'...</td>\n",
       "      <td>1.0</td>\n",
       "      <td>1.0</td>\n",
       "    </tr>\n",
       "    <tr>\n",
       "      <th>5058</th>\n",
       "      <td>['maaf', 'vaksin', 'tiga', 'kenan', 'kakak', '...</td>\n",
       "      <td>1.0</td>\n",
       "      <td>1.0</td>\n",
       "    </tr>\n",
       "    <tr>\n",
       "      <th>4004</th>\n",
       "      <td>['takut', 'vaksin', 'booster']</td>\n",
       "      <td>1.0</td>\n",
       "      <td>1.0</td>\n",
       "    </tr>\n",
       "    <tr>\n",
       "      <th>...</th>\n",
       "      <td>...</td>\n",
       "      <td>...</td>\n",
       "      <td>...</td>\n",
       "    </tr>\n",
       "    <tr>\n",
       "      <th>5067</th>\n",
       "      <td>['dok', 'vaksin', 'booster']</td>\n",
       "      <td>1.0</td>\n",
       "      <td>1.0</td>\n",
       "    </tr>\n",
       "    <tr>\n",
       "      <th>3501</th>\n",
       "      <td>['informasi', 'vaksin', 'booster', 'bsd']</td>\n",
       "      <td>1.0</td>\n",
       "      <td>1.0</td>\n",
       "    </tr>\n",
       "    <tr>\n",
       "      <th>949</th>\n",
       "      <td>['bijak', 'wajib', 'vaksin', 'booster', 'serti...</td>\n",
       "      <td>1.0</td>\n",
       "      <td>-1.0</td>\n",
       "    </tr>\n",
       "    <tr>\n",
       "      <th>4816</th>\n",
       "      <td>['informasi', 'vaksin', 'booster', 'daerah', '...</td>\n",
       "      <td>1.0</td>\n",
       "      <td>1.0</td>\n",
       "    </tr>\n",
       "    <tr>\n",
       "      <th>19</th>\n",
       "      <td>['cabut', 'ppkm', 'melulu', 'respons', 'positi...</td>\n",
       "      <td>-1.0</td>\n",
       "      <td>-1.0</td>\n",
       "    </tr>\n",
       "  </tbody>\n",
       "</table>\n",
       "<p>1777 rows × 3 columns</p>\n",
       "</div>"
      ],
      "text/plain": [
       "                                                 tweets  sentiment  \\\n",
       "4794  ['informasi', 'vaksin', 'booster', 'dom', 'tan...        1.0   \n",
       "1268  ['anuar', 'ibrahim', 'rompak', 'rm', 'billion'...       -1.0   \n",
       "4076  ['gais', 'nonton', 'konser', 'besok', 'vaksin'...        1.0   \n",
       "5058  ['maaf', 'vaksin', 'tiga', 'kenan', 'kakak', '...        1.0   \n",
       "4004                     ['takut', 'vaksin', 'booster']        1.0   \n",
       "...                                                 ...        ...   \n",
       "5067                       ['dok', 'vaksin', 'booster']        1.0   \n",
       "3501          ['informasi', 'vaksin', 'booster', 'bsd']        1.0   \n",
       "949   ['bijak', 'wajib', 'vaksin', 'booster', 'serti...        1.0   \n",
       "4816  ['informasi', 'vaksin', 'booster', 'daerah', '...        1.0   \n",
       "19    ['cabut', 'ppkm', 'melulu', 'respons', 'positi...       -1.0   \n",
       "\n",
       "      predict_sentiment  \n",
       "4794                1.0  \n",
       "1268                1.0  \n",
       "4076                1.0  \n",
       "5058                1.0  \n",
       "4004                1.0  \n",
       "...                 ...  \n",
       "5067                1.0  \n",
       "3501                1.0  \n",
       "949                -1.0  \n",
       "4816                1.0  \n",
       "19                 -1.0  \n",
       "\n",
       "[1777 rows x 3 columns]"
      ]
     },
     "execution_count": 28,
     "metadata": {},
     "output_type": "execute_result"
    }
   ],
   "source": [
    "df_pred = data_test.assign(predict_sentiment = y_pred)\n",
    "df_pred"
   ]
  },
  {
   "cell_type": "code",
   "execution_count": 16,
   "id": "b8942cd3",
   "metadata": {},
   "outputs": [],
   "source": [
    "df_pred.to_csv('output/predict_svm_rbf.csv')\n",
    "df_pred.to_excel('output/predict_svm_rbf.xlsx')"
   ]
  },
  {
   "cell_type": "code",
   "execution_count": 29,
   "id": "5af59d35",
   "metadata": {},
   "outputs": [
    {
     "data": {
      "image/png": "[encoded data removed]",
      "text/plain": [
       "<Figure size 576x360 with 2 Axes>"
      ]
     },
     "metadata": {
      "needs_background": "light"
     },
     "output_type": "display_data"
    },
    {
     "name": "stdout",
     "output_type": "stream",
     "text": [
      "True Positive :  1158\n",
      "True Negative :  467\n",
      "False Positive :  116\n",
      "False Negative  :  36\n",
      "\n",
      "\n",
      "SVM Accuracy Score ->  91.44625773776028\n",
      "SVM Recall Score ->  90.89481946624804\n",
      "SVM Precision Score ->  96.98492462311557\n",
      "SVM f1 Score ->  93.84116693679093\n"
     ]
    }
   ],
   "source": [
    "# visualisasi Confusion Matrix\n",
    "label = [-1,1]\n",
    "cm = metrics.confusion_matrix(y_true, y_pred, labels=label)\n",
    "\n",
    "# plotting\n",
    "cm_display = metrics.ConfusionMatrixDisplay(confusion_matrix=cm, display_labels=label)\n",
    "fig, ax = plt.subplots(figsize=(8,5))\n",
    "cm_display.plot(ax=ax)\n",
    "plt.title(\"CM SVM Kernel RBF\")\n",
    "ax.set_xlabel(\"Prediksi Sentimen\")\n",
    "ax.set_ylabel(\"Aktual Sentimen\")\n",
    "\n",
    "# pembalikan urutan label sentiment\n",
    "ax.invert_xaxis()\n",
    "ax.invert_yaxis()\n",
    "\n",
    "plt.savefig('output/plot_cm_svm_kernel_rbf.png')\n",
    "plt.show()\n",
    "# -1 = negatif, 1 = positif\n",
    "\n",
    "# Confusion matrix SVM RBF\n",
    "tn, fp, fn, tp = confusion_matrix(Y_Test, rbf1).ravel()\n",
    "print(\"True Positive : \", tp)\n",
    "print(\"True Negative : \", tn)\n",
    "print(\"False Positive : \", fp)\n",
    "print(\"False Negative  : \", fn)\n",
    "print(\"\\n\")\n",
    "\n",
    "# classification report (nilai akurasi, presisi, recall, f1-score)\n",
    "print(\"SVM Accuracy Score -> \", accuracy_score(y_pred, y_true)*100)\n",
    "print(\"SVM Recall Score -> \", recall_score(y_pred, y_true)*100)\n",
    "print(\"SVM Precision Score -> \", precision_score(y_pred, y_true)*100)\n",
    "print(\"SVM f1 Score -> \", f1_score(y_pred, y_true)*100)"
   ]
  },
  {
   "cell_type": "markdown",
   "id": "5ad93ebb",
   "metadata": {},
   "source": [
    "<h2>4. Sigmoid</h2>"
   ]
  },
  {
   "cell_type": "code",
   "execution_count": 17,
   "id": "be32e001",
   "metadata": {},
   "outputs": [],
   "source": [
    "sig = SVC(kernel='sigmoid', C=2.25)\n",
    "sig.fit(Train_X_Tfidf, Y_Train)\n",
    "sig1 = sig.predict(Test_X_Tfidf)"
   ]
  },
  {
   "cell_type": "code",
   "execution_count": 22,
   "id": "363314af",
   "metadata": {},
   "outputs": [
    {
     "name": "stdout",
     "output_type": "stream",
     "text": [
      "[0.90926641 0.91119691 0.91505792 0.9015444  0.87837838 0.8976834\n",
      " 0.88416988 0.88416988]\n",
      "K-Fold Mean ->  0.8976833976833977\n"
     ]
    }
   ],
   "source": [
    "scores = cross_val_score(sig, Train_X_Tfidf, Y_Train, cv=8)\n",
    "print(scores)\n",
    "print(\"K-Fold Mean -> \", cross_val_score(sig, Train_X_Tfidf, Y_Train, cv=8).mean())"
   ]
  },
  {
   "cell_type": "code",
   "execution_count": 23,
   "id": "532e881f",
   "metadata": {},
   "outputs": [],
   "source": [
    "y_pred = sig.predict(Test_X_Tfidf)"
   ]
  },
  {
   "cell_type": "code",
   "execution_count": 24,
   "id": "d05f9cec",
   "metadata": {},
   "outputs": [
    {
     "data": {
      "text/html": [
       "<div>\n",
       "<style scoped>\n",
       "    .dataframe tbody tr th:only-of-type {\n",
       "        vertical-align: middle;\n",
       "    }\n",
       "\n",
       "    .dataframe tbody tr th {\n",
       "        vertical-align: top;\n",
       "    }\n",
       "\n",
       "    .dataframe thead th {\n",
       "        text-align: right;\n",
       "    }\n",
       "</style>\n",
       "<table border=\"1\" class=\"dataframe\">\n",
       "  <thead>\n",
       "    <tr style=\"text-align: right;\">\n",
       "      <th></th>\n",
       "      <th>tweets</th>\n",
       "      <th>sentiment</th>\n",
       "      <th>predict_sentiment</th>\n",
       "    </tr>\n",
       "  </thead>\n",
       "  <tbody>\n",
       "    <tr>\n",
       "      <th>4794</th>\n",
       "      <td>['informasi', 'vaksin', 'booster', 'dom', 'tan...</td>\n",
       "      <td>1.0</td>\n",
       "      <td>1.0</td>\n",
       "    </tr>\n",
       "    <tr>\n",
       "      <th>1268</th>\n",
       "      <td>['anuar', 'ibrahim', 'rompak', 'rm', 'billion'...</td>\n",
       "      <td>-1.0</td>\n",
       "      <td>1.0</td>\n",
       "    </tr>\n",
       "    <tr>\n",
       "      <th>4076</th>\n",
       "      <td>['gais', 'nonton', 'konser', 'besok', 'vaksin'...</td>\n",
       "      <td>1.0</td>\n",
       "      <td>1.0</td>\n",
       "    </tr>\n",
       "    <tr>\n",
       "      <th>5058</th>\n",
       "      <td>['maaf', 'vaksin', 'tiga', 'kenan', 'kakak', '...</td>\n",
       "      <td>1.0</td>\n",
       "      <td>1.0</td>\n",
       "    </tr>\n",
       "    <tr>\n",
       "      <th>4004</th>\n",
       "      <td>['takut', 'vaksin', 'booster']</td>\n",
       "      <td>1.0</td>\n",
       "      <td>1.0</td>\n",
       "    </tr>\n",
       "    <tr>\n",
       "      <th>...</th>\n",
       "      <td>...</td>\n",
       "      <td>...</td>\n",
       "      <td>...</td>\n",
       "    </tr>\n",
       "    <tr>\n",
       "      <th>5067</th>\n",
       "      <td>['dok', 'vaksin', 'booster']</td>\n",
       "      <td>1.0</td>\n",
       "      <td>1.0</td>\n",
       "    </tr>\n",
       "    <tr>\n",
       "      <th>3501</th>\n",
       "      <td>['informasi', 'vaksin', 'booster', 'bsd']</td>\n",
       "      <td>1.0</td>\n",
       "      <td>1.0</td>\n",
       "    </tr>\n",
       "    <tr>\n",
       "      <th>949</th>\n",
       "      <td>['bijak', 'wajib', 'vaksin', 'booster', 'serti...</td>\n",
       "      <td>1.0</td>\n",
       "      <td>-1.0</td>\n",
       "    </tr>\n",
       "    <tr>\n",
       "      <th>4816</th>\n",
       "      <td>['informasi', 'vaksin', 'booster', 'daerah', '...</td>\n",
       "      <td>1.0</td>\n",
       "      <td>1.0</td>\n",
       "    </tr>\n",
       "    <tr>\n",
       "      <th>19</th>\n",
       "      <td>['cabut', 'ppkm', 'melulu', 'respons', 'positi...</td>\n",
       "      <td>-1.0</td>\n",
       "      <td>-1.0</td>\n",
       "    </tr>\n",
       "  </tbody>\n",
       "</table>\n",
       "<p>1777 rows × 3 columns</p>\n",
       "</div>"
      ],
      "text/plain": [
       "                                                 tweets  sentiment  \\\n",
       "4794  ['informasi', 'vaksin', 'booster', 'dom', 'tan...        1.0   \n",
       "1268  ['anuar', 'ibrahim', 'rompak', 'rm', 'billion'...       -1.0   \n",
       "4076  ['gais', 'nonton', 'konser', 'besok', 'vaksin'...        1.0   \n",
       "5058  ['maaf', 'vaksin', 'tiga', 'kenan', 'kakak', '...        1.0   \n",
       "4004                     ['takut', 'vaksin', 'booster']        1.0   \n",
       "...                                                 ...        ...   \n",
       "5067                       ['dok', 'vaksin', 'booster']        1.0   \n",
       "3501          ['informasi', 'vaksin', 'booster', 'bsd']        1.0   \n",
       "949   ['bijak', 'wajib', 'vaksin', 'booster', 'serti...        1.0   \n",
       "4816  ['informasi', 'vaksin', 'booster', 'daerah', '...        1.0   \n",
       "19    ['cabut', 'ppkm', 'melulu', 'respons', 'positi...       -1.0   \n",
       "\n",
       "      predict_sentiment  \n",
       "4794                1.0  \n",
       "1268                1.0  \n",
       "4076                1.0  \n",
       "5058                1.0  \n",
       "4004                1.0  \n",
       "...                 ...  \n",
       "5067                1.0  \n",
       "3501                1.0  \n",
       "949                -1.0  \n",
       "4816                1.0  \n",
       "19                 -1.0  \n",
       "\n",
       "[1777 rows x 3 columns]"
      ]
     },
     "execution_count": 24,
     "metadata": {},
     "output_type": "execute_result"
    }
   ],
   "source": [
    "df_pred = data_test.assign(predict_sentiment = y_pred)\n",
    "df_pred"
   ]
  },
  {
   "cell_type": "code",
   "execution_count": 25,
   "id": "38bb4593",
   "metadata": {},
   "outputs": [],
   "source": [
    "df_pred.to_csv('output/predict_svm_sig.csv')\n",
    "df_pred.to_excel('output/predict_svm_sig.xlsx')"
   ]
  },
  {
   "cell_type": "code",
   "execution_count": 102,
   "id": "f4cc8ada",
   "metadata": {},
   "outputs": [
    {
     "data": {
      "image/png": "[encoded data removed]",
      "text/plain": [
       "<Figure size 576x360 with 2 Axes>"
      ]
     },
     "metadata": {
      "needs_background": "light"
     },
     "output_type": "display_data"
    },
    {
     "name": "stdout",
     "output_type": "stream",
     "text": [
      "True Positive :  1154\n",
      "True Negative :  447\n",
      "False Positive :  136\n",
      "False Negative  :  40\n",
      "\n",
      "\n",
      "SVM Accuracy Score ->  90.09566685424873\n",
      "SVM Recall Score ->  89.45736434108527\n",
      "SVM Precision Score ->  96.64991624790619\n",
      "SVM f1 Score ->  92.914653784219\n"
     ]
    }
   ],
   "source": [
    "# visualisasi Confusion Matrix\n",
    "label = [-1,1]\n",
    "cm = metrics.confusion_matrix(y_true, y_pred, labels=label)\n",
    "\n",
    "# plotting\n",
    "cm_display = metrics.ConfusionMatrixDisplay(confusion_matrix=cm, display_labels=label)\n",
    "fig, ax = plt.subplots(figsize=(8,5))\n",
    "cm_display.plot(ax=ax)\n",
    "plt.title(\"CM SVM Kernel Sigmoid\")\n",
    "ax.set_xlabel(\"Prediksi Sentimen\")\n",
    "ax.set_ylabel(\"Aktual Sentimen\")\n",
    "\n",
    "# pembalikan urutan label sentiment\n",
    "ax.invert_xaxis()\n",
    "ax.invert_yaxis()\n",
    "\n",
    "plt.savefig('output/plot_cm_svm_kernel_sigmoid.png')\n",
    "plt.show()\n",
    "# -1 = negatif, 1 = positif\n",
    "\n",
    "# Confusion matrix SVM Sigmoid\n",
    "tn, fp, fn, tp = confusion_matrix(Y_Test, sig1).ravel()\n",
    "print(\"True Positive : \", tp)\n",
    "print(\"True Negative : \", tn)\n",
    "print(\"False Positive : \", fp)\n",
    "print(\"False Negative  : \", fn)\n",
    "print(\"\\n\")\n",
    "\n",
    "# classification report (nilai akurasi, presisi, recall, f1-score)\n",
    "print(\"SVM Accuracy Score -> \", accuracy_score(y_pred, y_true)*100)\n",
    "print(\"SVM Recall Score -> \", recall_score(y_pred, y_true)*100)\n",
    "print(\"SVM Precision Score -> \", precision_score(y_pred, y_true)*100)\n",
    "print(\"SVM f1 Score -> \", f1_score(y_pred, y_true)*100)"
   ]
  },
  {
   "cell_type": "code",
   "execution_count": 105,
   "id": "1e468ea3",
   "metadata": {},
   "outputs": [],
   "source": [
    "#membangun model klasifikasi untuk prediksi kalimat sentimen\n",
    "def classify(tweet):\n",
    "    pred  = sig.predict(Tfidf.transform([tweet]))\n",
    "    if pred == 1:\n",
    "        return \"Sentimen positif\"\n",
    "    return \"Sentimen negatif\""
   ]
  },
  {
   "cell_type": "code",
   "execution_count": 106,
   "id": "df9f51c9",
   "metadata": {},
   "outputs": [
    {
     "data": {
      "text/plain": [
       "'Sentimen negatif'"
      ]
     },
     "execution_count": 106,
     "metadata": {},
     "output_type": "execute_result"
    }
   ],
   "source": [
    "classify('vaksin membuat badan lemes')"
   ]
  },
  {
   "cell_type": "code",
   "execution_count": 107,
   "id": "c8d69872",
   "metadata": {},
   "outputs": [
    {
     "data": {
      "text/plain": [
       "'Sentimen positif'"
      ]
     },
     "execution_count": 107,
     "metadata": {},
     "output_type": "execute_result"
    }
   ],
   "source": [
    "classify('jangan lupa vaksin booster agar imun tetap terjaga')"
   ]
  },
  {
   "cell_type": "code",
   "execution_count": null,
   "id": "bf83919c",
   "metadata": {},
   "outputs": [],
   "source": []
  }
 ],
 "metadata": {
  "kernelspec": {
   "display_name": "Python 3",
   "language": "python",
   "name": "python3"
  },
  "language_info": {
   "codemirror_mode": {
    "name": "ipython",
    "version": 3
   },
   "file_extension": ".py",
   "mimetype": "text/x-python",
   "name": "python",
   "nbconvert_exporter": "python",
   "pygments_lexer": "ipython3",
   "version": "3.8.8"
  }
 },
 "nbformat": 4,
 "nbformat_minor": 5
}
