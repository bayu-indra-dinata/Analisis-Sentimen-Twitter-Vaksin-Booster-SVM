{
 "cells": [
  {
   "cell_type": "code",
   "execution_count": 1,
   "id": "948a502b",
   "metadata": {},
   "outputs": [],
   "source": [
    "import snscrape.modules.twitter as sntwitter\n",
    "import pandas as pd"
   ]
  },
  {
   "cell_type": "code",
   "execution_count": 2,
   "id": "b3b8ea05",
   "metadata": {},
   "outputs": [],
   "source": [
    "pd.options.display.max_colwidth = 500"
   ]
  },
  {
   "cell_type": "code",
   "execution_count": 3,
   "id": "3e0dd36b-b993-4c1b-9abd-b75954eb137d",
   "metadata": {},
   "outputs": [
    {
     "name": "stdout",
     "output_type": "stream",
     "text": [
      "Wall time: 0 ns\n",
      "Start Crawling\n",
      "Finished\n",
      "----------\n"
     ]
    }
   ],
   "source": [
    "query = \"booster covid-19 \\\"booster covid-19\\\" (booster OR covid-19) lang:id until:2022-12-31 since:2021-01-01\"\n",
    "tweets = []\n",
    "limit = 8000\n",
    "\n",
    "%time\n",
    "try:\n",
    "    print(\"Start Crawling...\")\n",
    "    for tweet in sntwitter.TwitterSearchScraper(query=query).get_items():\n",
    "        if len(tweets) == limit:\n",
    "            break\n",
    "        else:\n",
    "            tweets.append([tweet.date, tweet.user.username, tweet.content])\n",
    "    df = pd.DataFrame(tweets, columns=['datetime', 'username', 'tweet'])\n",
    "except Exception as e:\n",
    "    print(e)\n",
    "    \n",
    "print(\"Finished\")\n",
    "print(\"----------\")\n"
   ]
  },
  {
   "cell_type": "code",
   "execution_count": 4,
   "id": "10485dac-e4e1-424f-be82-fed7c6bbaed2",
   "metadata": {},
   "outputs": [
    {
     "data": {
      "text/html": [
       "<div>\n",
       "<style scoped>\n",
       "    .dataframe tbody tr th:only-of-type {\n",
       "        vertical-align: middle;\n",
       "    }\n",
       "\n",
       "    .dataframe tbody tr th {\n",
       "        vertical-align: top;\n",
       "    }\n",
       "\n",
       "    .dataframe thead th {\n",
       "        text-align: right;\n",
       "    }\n",
       "</style>\n",
       "<table border=\"1\" class=\"dataframe\">\n",
       "  <thead>\n",
       "    <tr style=\"text-align: right;\">\n",
       "      <th></th>\n",
       "      <th>datetime</th>\n",
       "      <th>username</th>\n",
       "      <th>tweet</th>\n",
       "    </tr>\n",
       "  </thead>\n",
       "  <tbody>\n",
       "    <tr>\n",
       "      <th>0</th>\n",
       "      <td>2022-12-14 14:54:14+00:00</td>\n",
       "      <td>x_brigadir</td>\n",
       "      <td>@HukumDan bener gak sih selama ini tugasnya mereka tuh cuma monitor lawan oligarki, memastikan rakyat di vaksin covid-19, ikut mengamankan bansos, mengatur buzzerrp, pengaman dan pengayom oknum, berperan aktif di kebocoran data, endorse IKN? 😔😏</td>\n",
       "    </tr>\n",
       "    <tr>\n",
       "      <th>1</th>\n",
       "      <td>2022-12-14 13:28:44+00:00</td>\n",
       "      <td>viaputri___</td>\n",
       "      <td>Meskipun terdapat penindasan terhadap kelompok ibadah di gereja ini, beberapa anggota yang merupakan pasien terpapar covid-19 dan sudah sembuh berjanji untuk menyumbangkan plasma darah mereka secara cuma-cuma untuk pengembangan vaksin covid-19.</td>\n",
       "    </tr>\n",
       "    <tr>\n",
       "      <th>2</th>\n",
       "      <td>2022-12-14 11:46:10+00:00</td>\n",
       "      <td>auliando13</td>\n",
       "      <td>@rhiezal_saefful @StopPlandemit Alhamdulilah gk kenapa napa mas ,cuma telat 10 hari aja haid nya ,biasanya gk pernah begitu .\\nSetau saya yg vaksin covid 19 lah yg menstruasi nya kacau, sedangkan saya &amp;amp; istri gk vaksin covid sama sekali .\\n\\nDan ternyata di test dia hamil .</td>\n",
       "    </tr>\n",
       "    <tr>\n",
       "      <th>3</th>\n",
       "      <td>2022-12-14 09:09:02+00:00</td>\n",
       "      <td>EksisSosmed</td>\n",
       "      <td>Tetap cegah Covid jenis varian manapun dengan Patuhi Protokol Kesehatan dengan memakai Masker dengan Benar melakukan Vaksin Covid-19 serta menjaga Perilaku sehat dengan hidup bersih dan sehat. https://t.co/ZgBT4npsFl</td>\n",
       "    </tr>\n",
       "    <tr>\n",
       "      <th>4</th>\n",
       "      <td>2022-12-14 09:08:50+00:00</td>\n",
       "      <td>detikcom</td>\n",
       "      <td>RI sempat diterpa kabar stok vaksin COVID-19 langka. Lantas kini menjelang Nataru yang rentan memicu kenaikan kasus, seperti apa kondisi stok vaksin COVID RI?  https://t.co/qSEupcSZc5</td>\n",
       "    </tr>\n",
       "    <tr>\n",
       "      <th>...</th>\n",
       "      <td>...</td>\n",
       "      <td>...</td>\n",
       "      <td>...</td>\n",
       "    </tr>\n",
       "    <tr>\n",
       "      <th>7995</th>\n",
       "      <td>2022-08-10 06:06:01+00:00</td>\n",
       "      <td>Bulog_Sarko</td>\n",
       "      <td>Akhirnya 17 Agustus 2022, Indonesia akan punya vaksin buatan sendiri yaitu buatan Biofarma dan BUMN. Presiden Joko Widodo sudah siapkan nama khusus untuk vaksin Covid-19 buatan RI ini. \\n\\n#VaksinKaryaIndonesia https://t.co/54nv5GeYsg</td>\n",
       "    </tr>\n",
       "    <tr>\n",
       "      <th>7996</th>\n",
       "      <td>2022-08-10 05:32:17+00:00</td>\n",
       "      <td>DivHumas_Polri</td>\n",
       "      <td>HOAX KEMENKES JEPANG MELARANG VAKSIN COVID-19 DOSIS KEEMPAT https://t.co/BOw2p2VAcv</td>\n",
       "    </tr>\n",
       "    <tr>\n",
       "      <th>7997</th>\n",
       "      <td>2022-08-10 05:31:03+00:00</td>\n",
       "      <td>theeskimoway</td>\n",
       "      <td>https://t.co/K2TOMcMil5\\nBiden, pada Senin (17/5), mengumumkan bahwa pemerintahannya akan mengirimkan dosis vaksin Covid-19 Pfizer-BioNTech, Moderna dan Johnson &amp;amp; Johnson, selain 60 juta dosis AstraZeneca yang telah direncanakannya untuk diberikan ke negara lain.</td>\n",
       "    </tr>\n",
       "    <tr>\n",
       "      <th>7998</th>\n",
       "      <td>2022-08-10 05:05:44+00:00</td>\n",
       "      <td>medcom_id</td>\n",
       "      <td>Sebanyak lebih dari 40 juta masyarakat rentan dan umum sudah menerima vaksin covid-19 dosis ketiga atau booster per Selasa, 9 Agustus 2022. Program vaksin booster bagi masyarakat sudah berjalan sejak Rabu, 12 Januari 2022\\n\\n#cekdulumedcom\\n\\nhttps://t.co/KjYUCKncnJ https://t.co/2ZyhVIkltF</td>\n",
       "    </tr>\n",
       "    <tr>\n",
       "      <th>7999</th>\n",
       "      <td>2022-08-10 05:05:02+00:00</td>\n",
       "      <td>tauberitamedia</td>\n",
       "      <td>Vaksin COVID-19 booster sudah dimulai untuk masyarakat umum usia 18 tahun ke atas. Kapan diberikan untuk anak sekolah? https://t.co/KRBH19hNKt</td>\n",
       "    </tr>\n",
       "  </tbody>\n",
       "</table>\n",
       "<p>8000 rows × 3 columns</p>\n",
       "</div>"
      ],
      "text/plain": [
       "                      datetime        username  \\\n",
       "0    2022-12-14 14:54:14+00:00      x_brigadir   \n",
       "1    2022-12-14 13:28:44+00:00     viaputri___   \n",
       "2    2022-12-14 11:46:10+00:00      auliando13   \n",
       "3    2022-12-14 09:09:02+00:00     EksisSosmed   \n",
       "4    2022-12-14 09:08:50+00:00        detikcom   \n",
       "...                        ...             ...   \n",
       "7995 2022-08-10 06:06:01+00:00     Bulog_Sarko   \n",
       "7996 2022-08-10 05:32:17+00:00  DivHumas_Polri   \n",
       "7997 2022-08-10 05:31:03+00:00    theeskimoway   \n",
       "7998 2022-08-10 05:05:44+00:00       medcom_id   \n",
       "7999 2022-08-10 05:05:02+00:00  tauberitamedia   \n",
       "\n",
       "                                                                                                                                                                                                                                                                                                   tweet  \n",
       "0                                                   @HukumDan bener gak sih selama ini tugasnya mereka tuh cuma monitor lawan oligarki, memastikan rakyat di vaksin covid-19, ikut mengamankan bansos, mengatur buzzerrp, pengaman dan pengayom oknum, berperan aktif di kebocoran data, endorse IKN? 😔😏  \n",
       "1                                                   Meskipun terdapat penindasan terhadap kelompok ibadah di gereja ini, beberapa anggota yang merupakan pasien terpapar covid-19 dan sudah sembuh berjanji untuk menyumbangkan plasma darah mereka secara cuma-cuma untuk pengembangan vaksin covid-19.  \n",
       "2                 @rhiezal_saefful @StopPlandemit Alhamdulilah gk kenapa napa mas ,cuma telat 10 hari aja haid nya ,biasanya gk pernah begitu .\\nSetau saya yg vaksin covid 19 lah yg menstruasi nya kacau, sedangkan saya &amp; istri gk vaksin covid sama sekali .\\n\\nDan ternyata di test dia hamil .  \n",
       "3                                                                               Tetap cegah Covid jenis varian manapun dengan Patuhi Protokol Kesehatan dengan memakai Masker dengan Benar melakukan Vaksin Covid-19 serta menjaga Perilaku sehat dengan hidup bersih dan sehat. https://t.co/ZgBT4npsFl  \n",
       "4                                                                                                                RI sempat diterpa kabar stok vaksin COVID-19 langka. Lantas kini menjelang Nataru yang rentan memicu kenaikan kasus, seperti apa kondisi stok vaksin COVID RI?  https://t.co/qSEupcSZc5  \n",
       "...                                                                                                                                                                                                                                                                                                  ...  \n",
       "7995                                                          Akhirnya 17 Agustus 2022, Indonesia akan punya vaksin buatan sendiri yaitu buatan Biofarma dan BUMN. Presiden Joko Widodo sudah siapkan nama khusus untuk vaksin Covid-19 buatan RI ini. \\n\\n#VaksinKaryaIndonesia https://t.co/54nv5GeYsg  \n",
       "7996                                                                                                                                                                                                                 HOAX KEMENKES JEPANG MELARANG VAKSIN COVID-19 DOSIS KEEMPAT https://t.co/BOw2p2VAcv  \n",
       "7997                         https://t.co/K2TOMcMil5\\nBiden, pada Senin (17/5), mengumumkan bahwa pemerintahannya akan mengirimkan dosis vaksin Covid-19 Pfizer-BioNTech, Moderna dan Johnson &amp; Johnson, selain 60 juta dosis AstraZeneca yang telah direncanakannya untuk diberikan ke negara lain.  \n",
       "7998  Sebanyak lebih dari 40 juta masyarakat rentan dan umum sudah menerima vaksin covid-19 dosis ketiga atau booster per Selasa, 9 Agustus 2022. Program vaksin booster bagi masyarakat sudah berjalan sejak Rabu, 12 Januari 2022\\n\\n#cekdulumedcom\\n\\nhttps://t.co/KjYUCKncnJ https://t.co/2ZyhVIkltF  \n",
       "7999                                                                                                                                                      Vaksin COVID-19 booster sudah dimulai untuk masyarakat umum usia 18 tahun ke atas. Kapan diberikan untuk anak sekolah? https://t.co/KRBH19hNKt  \n",
       "\n",
       "[8000 rows x 3 columns]"
      ]
     },
     "execution_count": 4,
     "metadata": {},
     "output_type": "execute_result"
    }
   ],
   "source": [
    "df"
   ]
  },
  {
   "cell_type": "code",
   "execution_count": 5,
   "id": "c913e4f9-43ed-4b00-971c-198f8e14857c",
   "metadata": {},
   "outputs": [],
   "source": [
    "df.to_csv('dataset/raw_tweets.csv', index=False)"
   ]
  },
  {
   "cell_type": "code",
   "execution_count": 1,
   "id": "4aaeb14f-8d18-423f-8a11-d93335da2ba9",
   "metadata": {},
   "outputs": [
    {
     "ename": "NameError",
     "evalue": "name 'df' is not defined",
     "output_type": "error",
     "traceback": [
      "\u001b[1;31m---------------------------------------------------------------------------\u001b[0m",
      "\u001b[1;31mNameError\u001b[0m                                 Traceback (most recent call last)",
      "\u001b[1;32m<ipython-input-1-90cda1ee25f1>\u001b[0m in \u001b[0;36m<module>\u001b[1;34m\u001b[0m\n\u001b[1;32m----> 1\u001b[1;33m \u001b[0mdf\u001b[0m\u001b[1;33m.\u001b[0m\u001b[0mto_excel\u001b[0m\u001b[1;33m(\u001b[0m\u001b[1;34m'dataset/raw_tweets.csv'\u001b[0m\u001b[1;33m,\u001b[0m \u001b[0mindex\u001b[0m\u001b[1;33m=\u001b[0m\u001b[1;32mFalse\u001b[0m\u001b[1;33m)\u001b[0m\u001b[1;33m\u001b[0m\u001b[1;33m\u001b[0m\u001b[0m\n\u001b[0m",
      "\u001b[1;31mNameError\u001b[0m: name 'df' is not defined"
     ]
    }
   ],
   "source": []
  },
  {
   "cell_type": "code",
   "execution_count": null,
   "id": "c0d5e7fd-4605-46fa-bddc-7338349f96ed",
   "metadata": {},
   "outputs": [],
   "source": []
  }
 ],
 "metadata": {
  "kernelspec": {
   "display_name": "Python 3",
   "language": "python",
   "name": "python3"
  },
  "language_info": {
   "codemirror_mode": {
    "name": "ipython",
    "version": 3
   },
   "file_extension": ".py",
   "mimetype": "text/x-python",
   "name": "python",
   "nbconvert_exporter": "python",
   "pygments_lexer": "ipython3",
   "version": "3.8.8"
  }
 },
 "nbformat": 4,
 "nbformat_minor": 5
}
